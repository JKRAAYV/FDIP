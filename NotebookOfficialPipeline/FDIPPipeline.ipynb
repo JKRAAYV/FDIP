{
 "cells": [
  {
   "cell_type": "markdown",
   "metadata": {
    "application/vnd.databricks.v1+cell": {
     "cellMetadata": {
      "byteLimit": 2048000,
      "rowLimit": 10000
     },
     "inputWidgets": {},
     "nuid": "4f810b7e-25a8-435a-a5a8-cebe6e04e578",
     "showTitle": false,
     "tableResultSettingsMap": {},
     "title": ""
    }
   },
   "source": [
    "# Set Paths"
   ]
  },
  {
   "cell_type": "markdown",
   "metadata": {},
   "source": [
    "Commenting out for security reasons"
   ]
  },
  {
   "cell_type": "code",
   "execution_count": 0,
   "metadata": {
    "application/vnd.databricks.v1+cell": {
     "cellMetadata": {
      "byteLimit": 2048000,
      "rowLimit": 10000
     },
     "inputWidgets": {},
     "nuid": "9d41c7f0-2577-47bd-b9df-623b74d3a2c7",
     "showTitle": true,
     "tableResultSettingsMap": {},
     "title": "Set Paths"
    }
   },
   "outputs": [],
   "source": [
    "# raw_path = temporarily commenting\n",
    "# processed_path = temporarily commenting"
   ]
  },
  {
   "cell_type": "markdown",
   "metadata": {
    "application/vnd.databricks.v1+cell": {
     "cellMetadata": {
      "byteLimit": 2048000,
      "rowLimit": 10000
     },
     "inputWidgets": {},
     "nuid": "d7aa37f5-1476-48ae-b5ca-5a5d33a4021f",
     "showTitle": false,
     "tableResultSettingsMap": {},
     "title": ""
    }
   },
   "source": [
    "# Extract Airport Data"
   ]
  },
  {
   "cell_type": "code",
   "execution_count": 0,
   "metadata": {
    "application/vnd.databricks.v1+cell": {
     "cellMetadata": {
      "byteLimit": 2048000,
      "rowLimit": 10000
     },
     "inputWidgets": {},
     "nuid": "4057bf90-8fe1-4891-bbd4-9f800125f927",
     "showTitle": true,
     "tableResultSettingsMap": {},
     "title": "Extract data"
    }
   },
   "outputs": [],
   "source": [
    "airports_df = spark.read.option(\"header\", True).option(\"inferSchema\", True).csv(raw_path + \"airports.csv\")\n",
    "airports_with_icao_df = spark.read.option(\"header\", True).option(\"inferSchema\", True).csv(raw_path + \"airports_with_icao.csv\")"
   ]
  },
  {
   "cell_type": "markdown",
   "metadata": {
    "application/vnd.databricks.v1+cell": {
     "cellMetadata": {
      "byteLimit": 2048000,
      "rowLimit": 10000
     },
     "inputWidgets": {},
     "nuid": "09cd30ad-f042-4d4b-bb80-4ced2cf1609e",
     "showTitle": false,
     "tableResultSettingsMap": {},
     "title": ""
    }
   },
   "source": [
    "# Access and Extract Flight and Weather API Data"
   ]
  },
  {
   "cell_type": "code",
   "execution_count": 0,
   "metadata": {
    "application/vnd.databricks.v1+cell": {
     "cellMetadata": {
      "byteLimit": 2048000,
      "rowLimit": 10000
     },
     "inputWidgets": {},
     "nuid": "5c74c25d-26a2-4ea2-9443-59431dcf9afd",
     "showTitle": true,
     "tableResultSettingsMap": {},
     "title": "Imports"
    }
   },
   "outputs": [],
   "source": [
    "import requests\n",
    "from pyspark.sql.types import (\n",
    "    StructType, StructField, StringType, LongType, DoubleType, BooleanType, ArrayType\n",
    ")"
   ]
  },
  {
   "cell_type": "markdown",
   "metadata": {
    "application/vnd.databricks.v1+cell": {
     "cellMetadata": {
      "byteLimit": 2048000,
      "rowLimit": 10000
     },
     "inputWidgets": {},
     "nuid": "4f8261f2-aa73-494e-8eb0-d4a85d76ff62",
     "showTitle": true,
     "tableResultSettingsMap": {},
     "title": ""
    }
   },
   "source": [
    "## Flight Data Extraction"
   ]
  },
  {
   "cell_type": "code",
   "execution_count": 0,
   "metadata": {
    "application/vnd.databricks.v1+cell": {
     "cellMetadata": {
      "byteLimit": 2048000,
      "rowLimit": 10000
     },
     "inputWidgets": {},
     "nuid": "bd6998a0-d837-43d4-a951-d953214c285d",
     "showTitle": true,
     "tableResultSettingsMap": {},
     "title": "Flight Data API Access"
    }
   },
   "outputs": [],
   "source": [
    "# URL for the OpenSky API endpoint\n",
    "url = \"https://opensky-network.org/api/states/all\"\n",
    "\n",
    "# Request data from the API\n",
    "response = requests.get(url)\n",
    "data = response.json()\n",
    "\n",
    "# Extract the list of flight states\n",
    "states = data.get('states', [])"
   ]
  },
  {
   "cell_type": "code",
   "execution_count": 0,
   "metadata": {
    "application/vnd.databricks.v1+cell": {
     "cellMetadata": {
      "byteLimit": 2048000,
      "rowLimit": 10000
     },
     "inputWidgets": {},
     "nuid": "41e93ef3-40d0-4c7d-bca3-4e5149e3ae8e",
     "showTitle": true,
     "tableResultSettingsMap": {},
     "title": "Convert Values to float that expect DoubleType"
    },
    "jupyter": {
     "outputs_hidden": true
    }
   },
   "outputs": [],
   "source": [
    "def convert_row(row):\n",
    "    # Make a copy of the row (which is a list)\n",
    "    new_row = list(row)\n",
    "    # For fields: longitude (index 5), latitude (6), baro_altitude (7), velocity (9),\n",
    "    # true_track (10), vertical_rate (11), geo_altitude (13)\n",
    "    for idx in [5, 6, 7, 9, 10, 11, 13]:\n",
    "        val = new_row[idx]\n",
    "        if val is not None:\n",
    "            new_row[idx] = float(val)\n",
    "    return new_row\n",
    "\n",
    "# Convert each row accordingly\n",
    "states = [convert_row(row) for row in states]"
   ]
  },
  {
   "cell_type": "code",
   "execution_count": 0,
   "metadata": {
    "application/vnd.databricks.v1+cell": {
     "cellMetadata": {
      "byteLimit": 2048000,
      "rowLimit": 10000
     },
     "inputWidgets": {},
     "nuid": "f49eb791-a351-4532-b226-6f4412d3f8e0",
     "showTitle": true,
     "tableResultSettingsMap": {},
     "title": "Schema Definition"
    }
   },
   "outputs": [],
   "source": [
    "# Define an explicit schema based on the API documentation\n",
    "schema = StructType([\n",
    "    StructField(\"icao24\", StringType(), True),\n",
    "    StructField(\"callsign\", StringType(), True),\n",
    "    StructField(\"origin_country\", StringType(), True),\n",
    "    StructField(\"time_position\", LongType(), True),\n",
    "    StructField(\"last_contact\", LongType(), True),\n",
    "    StructField(\"longitude\", DoubleType(), True),\n",
    "    StructField(\"latitude\", DoubleType(), True),\n",
    "    StructField(\"baro_altitude\", DoubleType(), True),\n",
    "    StructField(\"on_ground\", BooleanType(), True),\n",
    "    StructField(\"velocity\", DoubleType(), True),\n",
    "    StructField(\"true_track\", DoubleType(), True),\n",
    "    StructField(\"vertical_rate\", DoubleType(), True),\n",
    "    StructField(\"sensors\", ArrayType(LongType()), True),\n",
    "    StructField(\"geo_altitude\", DoubleType(), True),\n",
    "    StructField(\"squawk\", StringType(), True),\n",
    "    StructField(\"spi\", BooleanType(), True),\n",
    "    StructField(\"position_source\", LongType(), True)\n",
    "])"
   ]
  },
  {
   "cell_type": "code",
   "execution_count": 0,
   "metadata": {
    "application/vnd.databricks.v1+cell": {
     "cellMetadata": {
      "byteLimit": 2048000,
      "rowLimit": 10000
     },
     "inputWidgets": {},
     "nuid": "b78d8f6d-3db8-4d04-8c35-9d42c99ecd34",
     "showTitle": true,
     "tableResultSettingsMap": {},
     "title": "Create Spark Dataframe with Schema"
    }
   },
   "outputs": [],
   "source": [
    "# Create a Spark DataFrame using the explicit schema\n",
    "flights_df = spark.createDataFrame(states, schema=schema)"
   ]
  },
  {
   "cell_type": "code",
   "execution_count": 0,
   "metadata": {
    "application/vnd.databricks.v1+cell": {
     "cellMetadata": {
      "byteLimit": 2048000,
      "rowLimit": 10000
     },
     "inputWidgets": {},
     "nuid": "199aa097-e9f1-49e3-a0a2-de22b4d1a684",
     "showTitle": true,
     "tableResultSettingsMap": {},
     "title": "Clean Flight Data for csv"
    }
   },
   "outputs": [],
   "source": [
    "flights_df_clean = flights_df.drop(\"sensors\")"
   ]
  },
  {
   "cell_type": "code",
   "execution_count": 0,
   "metadata": {
    "application/vnd.databricks.v1+cell": {
     "cellMetadata": {
      "byteLimit": 2048000,
      "rowLimit": 10000
     },
     "inputWidgets": {},
     "nuid": "c9e82477-21b4-40b5-b7ce-1aa5338e0ead",
     "showTitle": true,
     "tableResultSettingsMap": {},
     "title": "View top 5 entries"
    }
   },
   "outputs": [
    {
     "name": "stdout",
     "output_type": "stream",
     "text": [
      "+------+--------+--------------+-------------+------------+---------+--------+-------------+---------+--------+----------+-------------+------------+------+-----+---------------+\n",
      "|icao24|callsign|origin_country|time_position|last_contact|longitude|latitude|baro_altitude|on_ground|velocity|true_track|vertical_rate|geo_altitude|squawk|  spi|position_source|\n",
      "+------+--------+--------------+-------------+------------+---------+--------+-------------+---------+--------+----------+-------------+------------+------+-----+---------------+\n",
      "|4b1816|SWR935L |   Switzerland|   1742905483|  1742905483|   21.581| 39.1825|     10965.18|    false|  218.93|    321.49|         0.33|    11308.08|  6627|false|              0|\n",
      "|ab1644|UAL1666 | United States|   1742905483|  1742905483| -77.2351| 38.1137|     11262.36|    false|  262.12|     33.07|          0.0|    11186.16|  1011|false|              0|\n",
      "|4b1819|SWR252B |   Switzerland|   1742905482|  1742905482|  16.4373| 45.5644|     10652.76|    false|   240.9|    117.33|          0.0|    10675.62|  3056|false|              0|\n",
      "|aa3cbd|N759P   | United States|   1742905482|  1742905482|  -81.548| 40.8857|        609.6|    false|   82.78|    122.31|        -0.33|      586.74|  5550|false|              0|\n",
      "|e8027d|LPE2304 |         Chile|   1742905479|  1742905479| -77.2976|-12.0977|      2545.08|    false|  146.19|    267.98|        13.98|        NULL|  NULL|false|              0|\n",
      "+------+--------+--------------+-------------+------------+---------+--------+-------------+---------+--------+----------+-------------+------------+------+-----+---------------+\n",
      "only showing top 5 rows\n",
      "\n"
     ]
    }
   ],
   "source": [
    "flights_df_clean.show(5)"
   ]
  },
  {
   "cell_type": "markdown",
   "metadata": {
    "application/vnd.databricks.v1+cell": {
     "cellMetadata": {
      "byteLimit": 2048000,
      "rowLimit": 10000
     },
     "inputWidgets": {},
     "nuid": "41b93e3d-f17d-4c9e-855f-c0b7a5b8bac1",
     "showTitle": false,
     "tableResultSettingsMap": {},
     "title": ""
    }
   },
   "source": [
    "### Load Flight Data"
   ]
  },
  {
   "cell_type": "code",
   "execution_count": 0,
   "metadata": {
    "application/vnd.databricks.v1+cell": {
     "cellMetadata": {
      "byteLimit": 2048000,
      "rowLimit": 10000
     },
     "inputWidgets": {},
     "nuid": "2eb62c81-dbe7-4529-9cc9-00a30314df6f",
     "showTitle": true,
     "tableResultSettingsMap": {},
     "title": "Reggex needed for file path parsing"
    }
   },
   "outputs": [],
   "source": [
    "import re"
   ]
  },
  {
   "cell_type": "markdown",
   "metadata": {
    "application/vnd.databricks.v1+cell": {
     "cellMetadata": {
      "byteLimit": 2048000,
      "rowLimit": 10000
     },
     "inputWidgets": {},
     "nuid": "afd05ffa-da9d-494f-bd57-3d6341b5c75e",
     "showTitle": false,
     "tableResultSettingsMap": {},
     "title": ""
    }
   },
   "source": [
    "### Function below used to ensure the file name stays persistent when updating files."
   ]
  },
  {
   "cell_type": "code",
   "execution_count": 0,
   "metadata": {
    "application/vnd.databricks.v1+cell": {
     "cellMetadata": {
      "byteLimit": 2048000,
      "rowLimit": 10000
     },
     "inputWidgets": {},
     "nuid": "8e30be27-d04a-43e3-8c3f-4168f04bf08e",
     "showTitle": true,
     "tableResultSettingsMap": {},
     "title": "Import needed to sanitize csv headers"
    }
   },
   "outputs": [],
   "source": [
    "from pyspark.sql.functions import col"
   ]
  },
  {
   "cell_type": "code",
   "execution_count": 0,
   "metadata": {
    "application/vnd.databricks.v1+cell": {
     "cellMetadata": {
      "byteLimit": 2048000,
      "rowLimit": 10000
     },
     "inputWidgets": {},
     "nuid": "d9efac42-a30f-4178-a4fd-18c63f136a53",
     "showTitle": true,
     "tableResultSettingsMap": {},
     "title": "Clean column names"
    }
   },
   "outputs": [],
   "source": [
    "def clean_column_names(df):\n",
    "    new_cols = [col(c).alias(c.lower().replace(\" \", \"_\")) for c in df.columns]\n",
    "    return df.select(*new_cols)"
   ]
  },
  {
   "cell_type": "code",
   "execution_count": 0,
   "metadata": {
    "application/vnd.databricks.v1+cell": {
     "cellMetadata": {
      "byteLimit": 2048000,
      "rowLimit": 10000
     },
     "inputWidgets": {},
     "nuid": "8161c50c-1df1-4ff0-879d-c73256181437",
     "showTitle": true,
     "tableResultSettingsMap": {},
     "title": "save stable csv function"
    }
   },
   "outputs": [],
   "source": [
    "def save_stable_csv(df, temp_path, final_path, filename=\"data.csv\"):\n",
    "    # Clean column names\n",
    "    df = clean_column_names(df)\n",
    "\n",
    "    # Write to temp folder\n",
    "    df.coalesce(1).write.option(\"header\", True).mode(\"overwrite\").csv(temp_path)\n",
    "\n",
    "    # List files in the temp directory\n",
    "    files = dbutils.fs.ls(temp_path)\n",
    "\n",
    "    # Find the CSV part file\n",
    "    part_file = [f.path for f in files if re.match(r\".*part.*\\.csv$\", f.name)]\n",
    "    if part_file:\n",
    "        # Rename/move to stable path\n",
    "        dbutils.fs.mv(part_file[0], f\"{final_path}/{filename}\", True)\n",
    "\n",
    "    # Remove temp directory\n",
    "    dbutils.fs.rm(temp_path, True)"
   ]
  },
  {
   "cell_type": "markdown",
   "metadata": {
    "application/vnd.databricks.v1+cell": {
     "cellMetadata": {
      "byteLimit": 2048000,
      "rowLimit": 10000
     },
     "inputWidgets": {},
     "nuid": "b65ad8e5-b9b0-4fe7-bec9-8e0fed53c511",
     "showTitle": false,
     "tableResultSettingsMap": {},
     "title": ""
    }
   },
   "source": [
    "## Weather Data Extraction"
   ]
  },
  {
   "cell_type": "code",
   "execution_count": 0,
   "metadata": {
    "application/vnd.databricks.v1+cell": {
     "cellMetadata": {
      "byteLimit": 2048000,
      "rowLimit": 10000
     },
     "inputWidgets": {},
     "nuid": "bee0c616-5fce-4a26-9b08-4db54fec40d6",
     "showTitle": true,
     "tableResultSettingsMap": {},
     "title": "Import Libraries"
    }
   },
   "outputs": [],
   "source": [
    "import ftplib\n",
    "import io\n",
    "import re\n",
    "from pyspark.sql import Row\n",
    "from datetime import datetime"
   ]
  },
  {
   "cell_type": "code",
   "execution_count": 0,
   "metadata": {
    "application/vnd.databricks.v1+cell": {
     "cellMetadata": {
      "byteLimit": 2048000,
      "rowLimit": 10000
     },
     "inputWidgets": {},
     "nuid": "7f568fb3-37cb-4ba1-ba4d-dafb488e38a9",
     "showTitle": true,
     "tableResultSettingsMap": {},
     "title": "Function to Download Metar File Raw"
    }
   },
   "outputs": [],
   "source": [
    "def download_metar_file(hour_utc=\"00\"):\n",
    "    filename = f\"{hour_utc}Z.TXT\"\n",
    "    host = \"tgftp.nws.noaa.gov\"\n",
    "    dir_path = \"/data/observations/metar/cycles/\"\n",
    "\n",
    "    # Connect to FTP\n",
    "    ftp = ftplib.FTP(host)\n",
    "    ftp.login()\n",
    "    ftp.cwd(dir_path)\n",
    "\n",
    "    # Download file content\n",
    "    r = io.BytesIO()\n",
    "    ftp.retrbinary(f\"RETR {filename}\", r.write)\n",
    "    ftp.quit()\n",
    "    \n",
    "    # Convert bytes to string\n",
    "    content = r.getvalue().decode(\"utf-8\", errors=\"ignore\")\n",
    "    return content"
   ]
  },
  {
   "cell_type": "code",
   "execution_count": 0,
   "metadata": {
    "application/vnd.databricks.v1+cell": {
     "cellMetadata": {
      "byteLimit": 2048000,
      "rowLimit": 10000
     },
     "inputWidgets": {},
     "nuid": "ce8de714-88ef-4d46-a1ba-7d45b176bfdb",
     "showTitle": true,
     "tableResultSettingsMap": {},
     "title": "Call function to download  and view METAR file"
    }
   },
   "outputs": [
    {
     "name": "stdout",
     "output_type": "stream",
     "text": [
      "2025/03/24 23:50\n",
      "KANR 242350Z AUTO 08016KT 10SM SCT018 SCT024 BKN036 24/19 A3010 RMK A01\n",
      "\n",
      "2025/03/24 23:45\n",
      "KGUL 242345Z AUTO 02003KT 2 1/2SM BR CLR 23/21 A2997 RMK A01\n",
      "\n",
      "2025/03/24 23:50\n",
      "KIKT 242350Z AUTO 07020KT 10SM CLR 20/14 A3002 RMK A01\n",
      "\n",
      "2025/03/24 23:50\n",
      "KXER 242350Z AUTO 08017KT 4SM BR 21/20 A3002 RMK A01\n",
      "\n",
      "2025/03/24 23:45\n",
      "KGUL 242345Z AUTO 02003KT 2 1/2SM BR CLR 23/21 A2997 RMK A01\n",
      "\n",
      "2025/03/24 23:50\n",
      "KIKT 242350Z AUTO 07020KT 10SM CLR 20/14 A3002 RMK A01\n",
      "\n",
      "2025/03/24 23:50\n",
      "KANR 242350Z AUTO 08016KT 10SM SCT018 SCT024 BKN036 24/19 A3010 RMK A01\n",
      "\n",
      "2025/03/24 23:50\n",
      "KXER 242350Z AUTO 08017KT 4SM BR 21/20 A3002 RMK A01\n",
      "\n",
      "2025/03/24 23:55\n",
      "KBFR 242355Z AUTO 27007KT 10SM SCT120 11/M06 A2997 RMK AO2\n",
      "\n",
      "2025/03/24 23:55\n",
      "KBFR 242355Z AUTO 27007KT 10SM SCT120 11/M06 A2997 RMK AO2\n",
      "\n",
      "2025/03/24 23:45\n",
      "KGUL 242345Z AUTO 02003KT 2 1/2SM BR CLR 23/21 A2997 RMK A01\n",
      "\n",
      "2025/03/24 23:50\n",
      "KIKT 242350Z AUTO 07020KT 10SM CLR 20/14 A3002 RMK A01\n",
      "\n",
      "2025/03/24 23:55\n",
      "KBFR 242355Z AUTO 27007KT 10SM SCT120 11/M06 A2997 \n"
     ]
    }
   ],
   "source": [
    "# Example: pull METARs from 00Z\n",
    "metar_data = download_metar_file(\"00\")\n",
    "print(metar_data[:1000])  # preview first 1000 chars"
   ]
  },
  {
   "cell_type": "markdown",
   "metadata": {
    "application/vnd.databricks.v1+cell": {
     "cellMetadata": {
      "byteLimit": 2048000,
      "rowLimit": 10000
     },
     "inputWidgets": {},
     "nuid": "a49fd4d1-42e5-4254-821c-bf4922e2c693",
     "showTitle": false,
     "tableResultSettingsMap": {},
     "title": ""
    }
   },
   "source": [
    "## Weather Data Parsing and Transformation"
   ]
  },
  {
   "cell_type": "code",
   "execution_count": 0,
   "metadata": {
    "application/vnd.databricks.v1+cell": {
     "cellMetadata": {
      "byteLimit": 2048000,
      "rowLimit": 10000
     },
     "inputWidgets": {},
     "nuid": "873e0127-05c7-4534-b496-aba5dc69dd56",
     "showTitle": true,
     "tableResultSettingsMap": {},
     "title": "Function to parse METAR data"
    }
   },
   "outputs": [],
   "source": [
    "def parse_metar_entries(raw_data):\n",
    "    entries = raw_data.strip().split(\"\\n\\n\")  # Split by METAR blocks\n",
    "    parsed = []\n",
    "\n",
    "    for entry in entries:\n",
    "        lines = entry.strip().split(\"\\n\")\n",
    "        if len(lines) < 2:\n",
    "            continue  # Skip bad entries\n",
    "        try:\n",
    "            timestamp_str = lines[0]\n",
    "            metar_line = lines[1]\n",
    "            icao = metar_line.split()[0]\n",
    "            timestamp = datetime.strptime(timestamp_str, \"%Y/%m/%d %H:%M\")\n",
    "            parsed.append(Row(icao_code=icao, metar=metar_line, timestamp=timestamp))\n",
    "        except Exception as e:\n",
    "            print(f\"Skipping entry due to error: {e}\")\n",
    "            continue\n",
    "    \n",
    "    return parsed"
   ]
  },
  {
   "cell_type": "code",
   "execution_count": 0,
   "metadata": {
    "application/vnd.databricks.v1+cell": {
     "cellMetadata": {
      "byteLimit": 2048000,
      "rowLimit": 10000
     },
     "inputWidgets": {},
     "nuid": "74eb7cc8-2b98-4ed3-89ca-f90774ecd97e",
     "showTitle": true,
     "tableResultSettingsMap": {},
     "title": "Parse Metar Data into Spark-Friendly Rows"
    }
   },
   "outputs": [],
   "source": [
    "parsed_rows = parse_metar_entries(metar_data)"
   ]
  },
  {
   "cell_type": "code",
   "execution_count": 0,
   "metadata": {
    "application/vnd.databricks.v1+cell": {
     "cellMetadata": {
      "byteLimit": 2048000,
      "rowLimit": 10000
     },
     "inputWidgets": {},
     "nuid": "07b94a83-d3be-490c-b732-4262362fb25f",
     "showTitle": true,
     "tableResultSettingsMap": {},
     "title": "Create Weather Dataframe"
    }
   },
   "outputs": [
    {
     "name": "stdout",
     "output_type": "stream",
     "text": [
      "+---------+-----------------------------------------------------------------------+-------------------+\n",
      "|icao_code|metar                                                                  |timestamp          |\n",
      "+---------+-----------------------------------------------------------------------+-------------------+\n",
      "|KANR     |KANR 242350Z AUTO 08016KT 10SM SCT018 SCT024 BKN036 24/19 A3010 RMK A01|2025-03-24 23:50:00|\n",
      "|KGUL     |KGUL 242345Z AUTO 02003KT 2 1/2SM BR CLR 23/21 A2997 RMK A01           |2025-03-24 23:45:00|\n",
      "|KIKT     |KIKT 242350Z AUTO 07020KT 10SM CLR 20/14 A3002 RMK A01                 |2025-03-24 23:50:00|\n",
      "|KXER     |KXER 242350Z AUTO 08017KT 4SM BR 21/20 A3002 RMK A01                   |2025-03-24 23:50:00|\n",
      "|KGUL     |KGUL 242345Z AUTO 02003KT 2 1/2SM BR CLR 23/21 A2997 RMK A01           |2025-03-24 23:45:00|\n",
      "|KIKT     |KIKT 242350Z AUTO 07020KT 10SM CLR 20/14 A3002 RMK A01                 |2025-03-24 23:50:00|\n",
      "|KANR     |KANR 242350Z AUTO 08016KT 10SM SCT018 SCT024 BKN036 24/19 A3010 RMK A01|2025-03-24 23:50:00|\n",
      "|KXER     |KXER 242350Z AUTO 08017KT 4SM BR 21/20 A3002 RMK A01                   |2025-03-24 23:50:00|\n",
      "|KBFR     |KBFR 242355Z AUTO 27007KT 10SM SCT120 11/M06 A2997 RMK AO2             |2025-03-24 23:55:00|\n",
      "|KBFR     |KBFR 242355Z AUTO 27007KT 10SM SCT120 11/M06 A2997 RMK AO2             |2025-03-24 23:55:00|\n",
      "|KGUL     |KGUL 242345Z AUTO 02003KT 2 1/2SM BR CLR 23/21 A2997 RMK A01           |2025-03-24 23:45:00|\n",
      "|KIKT     |KIKT 242350Z AUTO 07020KT 10SM CLR 20/14 A3002 RMK A01                 |2025-03-24 23:50:00|\n",
      "|KBFR     |KBFR 242355Z AUTO 27007KT 10SM SCT120 11/M06 A2997 RMK AO2             |2025-03-24 23:55:00|\n",
      "|KBAK     |KBAK 242345Z 27012G18KT 10SM BKN150 10/M06 A2995                       |2025-03-24 23:45:00|\n",
      "|KDYA     |KDYA 242355Z AUTO 00000KT 10SM CLR 19/10 A3002 RMK AO2 6//// T01910100 |2025-03-24 23:55:00|\n",
      "|KSQL     |KSQL 242347Z 01005KT 10SM CLR 26/14 A3002                              |2025-03-24 23:47:00|\n",
      "|KTGI     |KTGI 242355Z AUTO 10SM CLR 12/12 A2979 RMK AO1 T01220115 10183 20024   |2025-03-24 23:55:00|\n",
      "|KBAK     |KBAK 242345Z 27012G18KT 10SM BKN150 10/M06 A2995                       |2025-03-24 23:45:00|\n",
      "|KDYA     |KDYA 242355Z AUTO 00000KT 10SM CLR 19/10 A3002 RMK AO2 6//// T01910100 |2025-03-24 23:55:00|\n",
      "|KSQL     |KSQL 242347Z 01005KT 10SM CLR 26/14 A3002                              |2025-03-24 23:47:00|\n",
      "+---------+-----------------------------------------------------------------------+-------------------+\n",
      "only showing top 20 rows\n",
      "\n"
     ]
    }
   ],
   "source": [
    "weather_df = spark.createDataFrame(parsed_rows)\n",
    "weather_df.show(truncate=False)"
   ]
  },
  {
   "cell_type": "code",
   "execution_count": 0,
   "metadata": {
    "application/vnd.databricks.v1+cell": {
     "cellMetadata": {
      "byteLimit": 2048000,
      "rowLimit": 10000
     },
     "inputWidgets": {},
     "nuid": "330a0c19-4cf7-4a43-83c2-55dfc1032503",
     "showTitle": true,
     "tableResultSettingsMap": {},
     "title": "Safely Parse Metar Data for Querying"
    }
   },
   "outputs": [],
   "source": [
    "def safe_parse_metar(metar_row):\n",
    "    try:\n",
    "        metar = metar_row.metar\n",
    "        icao = metar_row.icao_code\n",
    "        timestamp = metar_row.timestamp\n",
    "\n",
    "        # REGEX patterns\n",
    "        wind_pattern = r\"(\\d{3}|VRB)(\\d{2})KT\"\n",
    "        visibility_pattern = r\"(\\d{1,2})SM\"\n",
    "        temp_dew_pattern = r\"(M?\\d{2})/(M?\\d{2})\"\n",
    "        altimeter_pattern = r\"A(\\d{4})\"\n",
    "\n",
    "        # Match and parse\n",
    "        wind_match = re.search(wind_pattern, metar)\n",
    "        vis_match = re.search(visibility_pattern, metar)\n",
    "        temp_match = re.search(temp_dew_pattern, metar)\n",
    "        alt_match = re.search(altimeter_pattern, metar)\n",
    "\n",
    "        def parse_temp(val):\n",
    "            return -int(val[1:]) if val.startswith(\"M\") else int(val)\n",
    "\n",
    "        wind_dir = int(wind_match.group(1).replace(\"VRB\", \"0\")) if wind_match else None\n",
    "        wind_speed = int(wind_match.group(2)) if wind_match else None\n",
    "        wind_speed_mph = round(wind_speed * 1.15078, 2) if wind_speed is not None else None\n",
    "\n",
    "        visibility = int(vis_match.group(1)) if vis_match else None\n",
    "        temperature = parse_temp(temp_match.group(1)) if temp_match else None\n",
    "        dewpoint = parse_temp(temp_match.group(2)) if temp_match else None\n",
    "        altimeter = float(alt_match.group(1)) / 100 if alt_match else None\n",
    "\n",
    "        return Row(\n",
    "            icao_code=icao,\n",
    "            timestamp=timestamp,\n",
    "            metar=metar,\n",
    "            wind_dir=wind_dir,\n",
    "            wind_speed=wind_speed,\n",
    "            wind_speed_mph=wind_speed_mph,\n",
    "            visibility=visibility,\n",
    "            temperature=temperature,\n",
    "            dewpoint=dewpoint,\n",
    "            altimeter=altimeter\n",
    "        )\n",
    "\n",
    "    except Exception as e:\n",
    "        print(f\"[Parse Error] ICAO={metar_row.icao_code}, Error={str(e)}\")\n",
    "        return None"
   ]
  },
  {
   "cell_type": "markdown",
   "metadata": {
    "application/vnd.databricks.v1+cell": {
     "cellMetadata": {
      "byteLimit": 2048000,
      "rowLimit": 10000
     },
     "inputWidgets": {},
     "nuid": "ef420d64-eba6-4034-95e2-bb00bdeb25c6",
     "showTitle": false,
     "tableResultSettingsMap": {},
     "title": ""
    }
   },
   "source": [
    "## Transform parsed Metar Data Safely to ensure Accuracy and Data Integrity"
   ]
  },
  {
   "cell_type": "code",
   "execution_count": 0,
   "metadata": {
    "application/vnd.databricks.v1+cell": {
     "cellMetadata": {
      "byteLimit": 2048000,
      "rowLimit": 10000
     },
     "inputWidgets": {},
     "nuid": "fe2d209c-2e29-4efe-ae30-8b118ca08a08",
     "showTitle": true,
     "tableResultSettingsMap": {},
     "title": "Map out Columns"
    }
   },
   "outputs": [],
   "source": [
    "parsed_weather_rdd = weather_df.rdd.map(safe_parse_metar).filter(lambda row: row is not None)"
   ]
  },
  {
   "cell_type": "code",
   "execution_count": 0,
   "metadata": {
    "application/vnd.databricks.v1+cell": {
     "cellMetadata": {
      "byteLimit": 2048000,
      "rowLimit": 10000
     },
     "inputWidgets": {},
     "nuid": "b60c1980-5e82-484d-83cd-5d62b2f2ba4e",
     "showTitle": true,
     "tableResultSettingsMap": {},
     "title": "Create the parsed Weather Dataframe"
    }
   },
   "outputs": [],
   "source": [
    "parsed_weather_df = spark.createDataFrame(parsed_weather_rdd)"
   ]
  },
  {
   "cell_type": "code",
   "execution_count": 0,
   "metadata": {
    "application/vnd.databricks.v1+cell": {
     "cellMetadata": {
      "byteLimit": 2048000,
      "rowLimit": 10000
     },
     "inputWidgets": {},
     "nuid": "4d7939c2-5d83-45a1-93f7-37c5062a1ea7",
     "showTitle": true,
     "tableResultSettingsMap": {},
     "title": "Drop Metar Column"
    }
   },
   "outputs": [],
   "source": [
    "parsed_weather_df = parsed_weather_df.drop(\"metar\")"
   ]
  },
  {
   "cell_type": "code",
   "execution_count": 0,
   "metadata": {
    "application/vnd.databricks.v1+cell": {
     "cellMetadata": {
      "byteLimit": 2048000,
      "rowLimit": 10000
     },
     "inputWidgets": {},
     "nuid": "b2ba03b2-86cd-4f51-b517-b87eeafec178",
     "showTitle": true,
     "tableResultSettingsMap": {},
     "title": "Drop Duplicates of Icao codes sharing the same timestamp"
    }
   },
   "outputs": [],
   "source": [
    "parsed_weather_df = parsed_weather_df.dropDuplicates([\"icao_code\", \"timestamp\"])"
   ]
  },
  {
   "cell_type": "code",
   "execution_count": 0,
   "metadata": {
    "application/vnd.databricks.v1+cell": {
     "cellMetadata": {
      "byteLimit": 2048000,
      "rowLimit": 10000
     },
     "inputWidgets": {},
     "nuid": "0a72c11e-1f28-485d-af66-cf9517b1a72b",
     "showTitle": true,
     "tableResultSettingsMap": {},
     "title": "Drop null Values"
    }
   },
   "outputs": [],
   "source": [
    "parsed_weather_df = parsed_weather_df.dropna()"
   ]
  },
  {
   "cell_type": "markdown",
   "metadata": {
    "application/vnd.databricks.v1+cell": {
     "cellMetadata": {
      "byteLimit": 2048000,
      "rowLimit": 10000
     },
     "inputWidgets": {},
     "nuid": "fd866441-bb0c-432b-956f-3320fcf66f24",
     "showTitle": false,
     "tableResultSettingsMap": {},
     "title": ""
    }
   },
   "source": [
    "Show Parsed Weather Dataframe"
   ]
  },
  {
   "cell_type": "code",
   "execution_count": 0,
   "metadata": {
    "application/vnd.databricks.v1+cell": {
     "cellMetadata": {
      "byteLimit": 2048000,
      "rowLimit": 10000
     },
     "inputWidgets": {},
     "nuid": "e6a3b8bd-1923-4b90-b6f9-dc9f88c8ab05",
     "showTitle": true,
     "tableResultSettingsMap": {},
     "title": "Show parsed weather_df"
    }
   },
   "outputs": [
    {
     "name": "stdout",
     "output_type": "stream",
     "text": [
      "+---------+-------------------+--------+----------+--------------+----------+-----------+--------+---------+\n",
      "|icao_code|timestamp          |wind_dir|wind_speed|wind_speed_mph|visibility|temperature|dewpoint|altimeter|\n",
      "+---------+-------------------+--------+----------+--------------+----------+-----------+--------+---------+\n",
      "|KATW     |2025-03-24 23:45:00|300     |7         |8.06          |10        |1          |-3      |29.85    |\n",
      "|KAFP     |2025-03-24 23:50:00|210     |4         |4.6           |10        |18         |13      |29.87    |\n",
      "|KCRQ     |2025-03-24 23:53:00|220     |6         |6.9           |5         |15         |12      |30.02    |\n",
      "|PABI     |2025-03-24 23:53:00|80      |8         |9.21          |10        |3          |-11     |29.83    |\n",
      "|KSJN     |2025-03-24 23:54:00|300     |7         |8.06          |10        |22         |-6      |30.18    |\n",
      "|KFST     |2025-03-24 23:53:00|310     |6         |6.9           |10        |29         |0       |30.0     |\n",
      "|KTRI     |2025-03-24 23:53:00|270     |9         |10.36         |10        |14         |-4      |29.93    |\n",
      "|KMIV     |2025-03-24 23:54:00|0       |0         |0.0           |10        |11         |11      |29.78    |\n",
      "|KGTR     |2025-03-24 23:56:00|0       |0         |0.0           |10        |19         |3       |30.03    |\n",
      "|KHAE     |2025-03-24 23:55:00|280     |3         |3.45          |10        |11         |-2      |29.97    |\n",
      "|KOTG     |2025-03-24 23:56:00|240     |8         |9.21          |10        |8          |1       |29.87    |\n",
      "|KCGS     |2025-03-24 23:50:00|0       |0         |0.0           |10        |12         |10      |29.78    |\n",
      "|KHBI     |2025-03-24 23:50:00|0       |0         |0.0           |10        |15         |12      |29.88    |\n",
      "|KMHK     |2025-03-24 23:52:00|280     |7         |8.06          |10        |22         |1       |29.85    |\n",
      "|KBHB     |2025-03-24 23:53:00|0       |5         |5.75          |5         |1          |1       |29.79    |\n",
      "|KMOD     |2025-03-24 23:53:00|0       |0         |0.0           |10        |27         |12      |30.01    |\n",
      "|KRWF     |2025-03-24 23:53:00|0       |0         |0.0           |10        |9          |-3      |29.89    |\n",
      "|KTWF     |2025-03-24 23:53:00|280     |14        |16.11         |10        |18         |3       |30.27    |\n",
      "|KVEL     |2025-03-24 23:53:00|90      |3         |3.45          |10        |18         |-2      |30.19    |\n",
      "|K28J     |2025-03-24 23:55:00|190     |4         |4.6           |10        |21         |15      |30.03    |\n",
      "+---------+-------------------+--------+----------+--------------+----------+-----------+--------+---------+\n",
      "only showing top 20 rows\n",
      "\n"
     ]
    }
   ],
   "source": [
    "parsed_weather_df.show(truncate=False)"
   ]
  },
  {
   "cell_type": "markdown",
   "metadata": {
    "application/vnd.databricks.v1+cell": {
     "cellMetadata": {
      "byteLimit": 2048000,
      "rowLimit": 10000
     },
     "inputWidgets": {},
     "nuid": "87fc4cfb-24b6-40a8-95d7-0489500e7c6b",
     "showTitle": false,
     "tableResultSettingsMap": {},
     "title": ""
    }
   },
   "source": [
    "# Join Parsed Weather with Airport Data"
   ]
  },
  {
   "cell_type": "code",
   "execution_count": 0,
   "metadata": {
    "application/vnd.databricks.v1+cell": {
     "cellMetadata": {
      "byteLimit": 2048000,
      "rowLimit": 10000
     },
     "inputWidgets": {},
     "nuid": "4a7f1c92-0adb-4b6d-ac5f-281a801744a0",
     "showTitle": true,
     "tableResultSettingsMap": {},
     "title": "Joining Airports with icao with parsed weather data"
    }
   },
   "outputs": [],
   "source": [
    "airports_with_weather_df = airports_with_icao_df.join(parsed_weather_df, on=\"icao_code\", how=\"inner\")"
   ]
  },
  {
   "cell_type": "code",
   "execution_count": 0,
   "metadata": {
    "application/vnd.databricks.v1+cell": {
     "cellMetadata": {
      "byteLimit": 2048000,
      "rowLimit": 10000
     },
     "inputWidgets": {},
     "nuid": "59d8f3d5-b2a1-4b05-8491-7e30657a5ceb",
     "showTitle": true,
     "tableResultSettingsMap": {},
     "title": "Dropping Duplicates"
    }
   },
   "outputs": [],
   "source": [
    "airports_with_weather_df = airports_with_weather_df.dropDuplicates([\"icao_code\"])"
   ]
  },
  {
   "cell_type": "code",
   "execution_count": 0,
   "metadata": {
    "application/vnd.databricks.v1+cell": {
     "cellMetadata": {
      "byteLimit": 2048000,
      "rowLimit": 10000
     },
     "inputWidgets": {},
     "nuid": "b22a2d91-7f48-450f-939f-9a502db867aa",
     "showTitle": true,
     "tableResultSettingsMap": {},
     "title": "Show Sample"
    }
   },
   "outputs": [
    {
     "name": "stdout",
     "output_type": "stream",
     "text": [
      "+---------+----+-----+--------------+--------------------------------------------+-----------------+-------------------+------------+---------+-----------+----------+-----------------+-----------------+---------+----------+----------------------------------------+-------------------------------------------------------------------+-------------------+-------------------+--------+----------+--------------+----------+-----------+--------+---------+\n",
      "|icao_code|id  |ident|type          |name                                        |latitude_deg     |longitude_deg      |elevation_ft|continent|iso_country|iso_region|municipality     |scheduled_service|iata_code|local_code|home_link                               |wikipedia_link                                                     |keywords           |timestamp          |wind_dir|wind_speed|wind_speed_mph|visibility|temperature|dewpoint|altimeter|\n",
      "+---------+----+-----+--------------+--------------------------------------------+-----------------+-------------------+------------+---------+-----------+----------+-----------------+-----------------+---------+----------+----------------------------------------+-------------------------------------------------------------------+-------------------+-------------------+--------+----------+--------------+----------+-----------+--------+---------+\n",
      "|CBBC     |664 |CBBC |medium_airport|Bella Bella (Campbell Island) Airport       |52.185001        |-128.156994        |141.0       |NA       |CA         |CA-BC     |Bella Bella      |yes              |ZEL      |CBBC      |NULL                                    |https://en.wikipedia.org/wiki/Bella_Bella_(Campbell_Island)_Airport|BBC                |2025-03-25 00:00:00|320     |5         |5.75          |9         |12         |5       |30.11    |\n",
      "|CYAH     |1655|CYAH |medium_airport|La Grande-4 Airport                         |53.754699707     |-73.6753005981     |1005.0      |NA       |CA         |CA-QC     |La Grande-4      |no               |YAH      |NULL      |NULL                                    |https://en.wikipedia.org/wiki/La_Grande-4_Airport                  |YAH                |2025-03-25 00:00:00|100     |7         |8.06          |9         |-14        |-21     |29.83    |\n",
      "|CYAM     |1657|CYAM |medium_airport|Sault Ste Marie Airport                     |46.483216        |-84.508467         |630.0       |NA       |CA         |CA-ON     |Sault Ste Marie  |yes              |YAM      |NULL      |http://www.saultairport.com/            |https://en.wikipedia.org/wiki/Sault_Ste._Marie_Airport             |NULL               |2025-03-25 00:15:00|300     |15        |17.26         |2         |-1         |-1      |29.63    |\n",
      "|CYAT     |1660|CYAT |small_airport |Attawapiskat Airport                        |52.927502        |-82.4319           |31.0        |NA       |CA         |CA-ON     |Attawapiskat     |yes              |YAT      |NULL      |NULL                                    |https://en.wikipedia.org/wiki/Attawapiskat_Airport                 |NULL               |2025-03-25 00:00:00|30      |8         |9.21          |9         |-10        |-14     |29.94    |\n",
      "|CYAZ     |1666|CYAZ |medium_airport|Tofino / Long Beach Airport                 |49.079833        |-125.775583        |80.0        |NA       |CA         |CA-BC     |Tofino           |yes              |YAZ      |NULL      |http://www.acrd.bc.ca/long-beach-airport|https://en.wikipedia.org/wiki/Tofino_Airport                       |NULL               |2025-03-24 23:49:00|120     |7         |8.06          |8         |11         |10      |30.11    |\n",
      "|CYBD     |1670|CYBD |medium_airport|Bella Coola Airport                         |52.387501        |-126.596001        |117.0       |NA       |CA         |CA-BC     |Bella Coola      |yes              |QBC      |NULL      |NULL                                    |https://en.wikipedia.org/wiki/Bella_Coola_Airport                  |YBD                |2025-03-25 00:00:00|0       |2         |2.3           |15        |12         |4       |30.11    |\n",
      "|CYBG     |1673|CYBG |medium_airport|CFB Bagotville / Saguenay-Bagotville Airport|48.331908        |-70.992909         |522.0       |NA       |CA         |CA-QC     |La Baie          |yes              |YBG      |NULL      |NULL                                    |https://en.wikipedia.org/wiki/CFB_Bagotville                       |Bagotville Airport |2025-03-25 00:00:00|90      |19        |21.86         |8         |-5         |-7      |29.73    |\n",
      "|CYBK     |1674|CYBK |medium_airport|Baker Lake Airport                          |64.29889678960001|-96.077796936      |59.0        |NA       |CA         |CA-NU     |Baker Lake       |yes              |YBK      |NULL      |NULL                                    |https://en.wikipedia.org/wiki/Baker_Lake_Airport                   |NULL               |2025-03-25 00:00:00|40      |2         |2.3           |20        |-20        |-22     |30.02    |\n",
      "|CYBL     |1675|CYBL |medium_airport|Campbell River Airport                      |49.950802        |-125.271004        |346.0       |NA       |CA         |CA-BC     |Campbell River   |yes              |YBL      |YBL       |NULL                                    |https://en.wikipedia.org/wiki/Campbell_River_Airport               |NULL               |2025-03-25 00:00:00|90      |5         |5.75          |8         |9          |7       |30.14    |\n",
      "|CYBR     |1678|CYBR |medium_airport|Brandon Municipal Airport                   |49.91            |-99.951897         |1343.0      |NA       |CA         |CA-MB     |Brandon          |yes              |YBR      |NULL      |NULL                                    |https://en.wikipedia.org/wiki/Brandon_Airport                      |NULL               |2025-03-25 00:00:00|290     |8         |9.21          |15        |1          |-2      |29.91    |\n",
      "|CYBU     |1680|CYBU |medium_airport|Nipawin Airport                             |53.33250045776367|-104.00800323486328|1220.0      |NA       |CA         |CA-SK     |Nipawin          |no               |NULL     |NULL      |NULL                                    |https://en.wikipedia.org/wiki/Nipawin_Airport                      |YBU                |2025-03-25 00:00:00|150     |6         |6.9           |9         |0          |-4      |29.88    |\n",
      "|CYCA     |1684|CYCA |small_airport |Cartwright Airport                          |53.682501        |-57.042303         |40.0        |NA       |CA         |CA-NL     |Cartwright       |yes              |YRF      |NULL      |NULL                                    |https://en.wikipedia.org/wiki/Cartwright_Airport                   |YCA                |2025-03-25 00:00:00|270     |8         |9.21          |9         |-10        |-17     |29.97    |\n",
      "|CYCB     |1685|CYCB |medium_airport|Cambridge Bay Airport                       |69.1081008911    |-105.138000488     |90.0        |NA       |CA         |CA-NU     |Cambridge Bay    |yes              |YCB      |NULL      |NULL                                    |https://en.wikipedia.org/wiki/Cambridge_Bay_Airport                |NULL               |2025-03-25 00:00:00|320     |10        |11.51         |15        |-27        |-31     |30.12    |\n",
      "|CYCD     |1687|CYCD |medium_airport|Nanaimo Airport                             |49.05497         |-123.869863        |92.0        |NA       |CA         |CA-BC     |Nanaimo          |yes              |YCD      |NULL      |https://www.nanaimoairport.com/         |https://en.wikipedia.org/wiki/Nanaimo_Airport                      |NULL               |2025-03-25 00:00:00|70      |4         |4.6           |2         |10         |10      |30.15    |\n",
      "|CYCG     |1689|CYCG |medium_airport|Castlegar/West Kootenay Regional Airport    |49.296398        |-117.632004        |1624.0      |NA       |CA         |CA-BC     |Castlegar        |yes              |YCG      |NULL      |https://www.wkrairport.ca/              |https://en.wikipedia.org/wiki/Castlegar_Airport                    |NULL               |2025-03-25 00:00:00|0       |2         |2.3           |8         |8          |8       |30.16    |\n",
      "|CYCO     |1693|CYCO |small_airport |Kugluktuk Airport                           |67.816408        |-115.14307         |74.0        |NA       |CA         |CA-NU     |Kugluktuk        |yes              |YCO      |NULL      |NULL                                    |https://en.wikipedia.org/wiki/Kugluktuk_Airport                    |Copper Mine Airport|2025-03-25 00:00:00|230     |7         |8.06          |15        |-27        |-31     |30.18    |\n",
      "|CYCP     |1694|CYCP |medium_airport|Blue River Airport                          |52.11669921875   |-119.28299713134766|2240.0      |NA       |CA         |CA-BC     |Blue River       |no               |NULL     |NULL      |NULL                                    |https://en.wikipedia.org/wiki/Blue_River_Airport                   |YCP                |2025-03-25 00:00:00|200     |4         |4.6           |15        |10         |-1      |30.1     |\n",
      "|CYCY     |1701|CYCY |small_airport |Clyde River Airport                         |70.486099        |-68.516701         |87.0        |NA       |CA         |CA-NU     |Clyde River      |yes              |YCY      |NULL      |NULL                                    |https://en.wikipedia.org/wiki/Clyde_River_Airport                  |NULL               |2025-03-25 00:00:00|300     |8         |9.21          |9         |-25        |-28     |29.95    |\n",
      "|CYDB     |1704|CYDB |medium_airport|Burwash Airport                             |61.371101        |-139.041           |2647.0      |NA       |CA         |CA-YT     |Burwash Landing  |no               |YDB      |NULL      |NULL                                    |https://en.wikipedia.org/wiki/Burwash_Airport                      |NULL               |2025-03-25 00:00:00|90      |5         |5.75          |9         |2          |-11     |29.79    |\n",
      "|CYDC     |1705|CYDC |small_airport |Princeton Airport                           |49.468102        |-120.511002        |2298.0      |NA       |CA         |CA-BC     |Town of Princeton|no               |NULL     |NULL      |http://princetonairport.ca              |https://en.wikipedia.org/wiki/Princeton_Airport_(British_Columbia) |YDC                |2025-03-25 00:00:00|280     |3         |3.45          |10        |10         |5       |30.14    |\n",
      "+---------+----+-----+--------------+--------------------------------------------+-----------------+-------------------+------------+---------+-----------+----------+-----------------+-----------------+---------+----------+----------------------------------------+-------------------------------------------------------------------+-------------------+-------------------+--------+----------+--------------+----------+-----------+--------+---------+\n",
      "only showing top 20 rows\n",
      "\n"
     ]
    }
   ],
   "source": [
    "airports_with_weather_df.show(truncate=False)"
   ]
  },
  {
   "cell_type": "markdown",
   "metadata": {
    "application/vnd.databricks.v1+cell": {
     "cellMetadata": {
      "byteLimit": 2048000,
      "rowLimit": 10000
     },
     "inputWidgets": {},
     "nuid": "d310216e-2d07-4d76-bdcf-c2bc6418ee43",
     "showTitle": false,
     "tableResultSettingsMap": {},
     "title": ""
    }
   },
   "source": [
    "# Saving airports_with_weather file"
   ]
  },
  {
   "cell_type": "markdown",
   "metadata": {
    "application/vnd.databricks.v1+cell": {
     "cellMetadata": {
      "byteLimit": 2048000,
      "rowLimit": 10000
     },
     "inputWidgets": {},
     "nuid": "4e45f130-8401-481c-a798-8f65dd014318",
     "showTitle": false,
     "tableResultSettingsMap": {},
     "title": ""
    }
   },
   "source": [
    "# Saving processed_airports file"
   ]
  },
  {
   "cell_type": "code",
   "execution_count": 0,
   "metadata": {
    "application/vnd.databricks.v1+cell": {
     "cellMetadata": {
      "byteLimit": 2048000,
      "rowLimit": 10000
     },
     "inputWidgets": {},
     "nuid": "f515f016-5476-4e59-adec-09a88b903da2",
     "showTitle": false,
     "tableResultSettingsMap": {},
     "title": ""
    }
   },
   "outputs": [],
   "source": [
    "from pyspark.sql.functions import col"
   ]
  },
  {
   "cell_type": "code",
   "execution_count": 0,
   "metadata": {
    "application/vnd.databricks.v1+cell": {
     "cellMetadata": {
      "byteLimit": 2048000,
      "rowLimit": 10000
     },
     "inputWidgets": {},
     "nuid": "37b5c9f6-0435-403d-871f-61bcc0e8f66a",
     "showTitle": false,
     "tableResultSettingsMap": {},
     "title": ""
    }
   },
   "outputs": [],
   "source": [
    "\n",
    "\n",
    "def clean_column_names(df):\n",
    "    new_cols = [col(c).alias(c.lower().replace(\" \", \"_\")) for c in df.columns]\n",
    "    return df.select(*new_cols)"
   ]
  },
  {
   "cell_type": "code",
   "execution_count": 0,
   "metadata": {
    "application/vnd.databricks.v1+cell": {
     "cellMetadata": {
      "byteLimit": 2048000,
      "rowLimit": 10000
     },
     "inputWidgets": {},
     "nuid": "d2cd00c1-6970-4ba5-8a97-d23a61fd6410",
     "showTitle": true,
     "tableResultSettingsMap": {},
     "title": "Select Weather columns"
    }
   },
   "outputs": [],
   "source": [
    "weather_cols = [\n",
    "    \"icao_code\", \"timestamp\", \"wind_dir\", \"wind_speed\", \"wind_speed_mph\",\n",
    "    \"visibility\", \"temperature\", \"dewpoint\", \"altimeter\"\n",
    "]\n",
    "\n",
    "weather_only_df = airports_with_weather_df.select(weather_cols)"
   ]
  },
  {
   "cell_type": "code",
   "execution_count": 0,
   "metadata": {
    "application/vnd.databricks.v1+cell": {
     "cellMetadata": {
      "byteLimit": 2048000,
      "rowLimit": 10000
     },
     "inputWidgets": {},
     "nuid": "d53f933a-82d9-43be-b77c-f63b4f24d9e2",
     "showTitle": true,
     "tableResultSettingsMap": {},
     "title": "Join airports_with_weather to full airports on ICAO code"
    }
   },
   "outputs": [],
   "source": [
    "processed_airports_df = airports_df.join(weather_only_df, on=\"icao_code\", how=\"left\")"
   ]
  },
  {
   "cell_type": "code",
   "execution_count": 0,
   "metadata": {
    "application/vnd.databricks.v1+cell": {
     "cellMetadata": {
      "byteLimit": 2048000,
      "rowLimit": 10000
     },
     "inputWidgets": {},
     "nuid": "104ef784-33db-498e-b819-3128772ead1e",
     "showTitle": true,
     "tableResultSettingsMap": {},
     "title": "Drop Duplicates"
    }
   },
   "outputs": [],
   "source": [
    "processed_airports_df = processed_airports_df.dropDuplicates()"
   ]
  },
  {
   "cell_type": "code",
   "execution_count": 0,
   "metadata": {
    "application/vnd.databricks.v1+cell": {
     "cellMetadata": {
      "byteLimit": 2048000,
      "rowLimit": 10000
     },
     "inputWidgets": {},
     "nuid": "d700bdfa-dcdc-464f-b4ad-cbfdf4cb24f6",
     "showTitle": false,
     "tableResultSettingsMap": {},
     "title": ""
    }
   },
   "outputs": [
    {
     "data": {
      "text/plain": [
       "DataFrame[icao_code: string, id: int, ident: string, type: string, name: string, latitude_deg: double, longitude_deg: double, elevation_ft: int, continent: string, iso_country: string, iso_region: string, municipality: string, scheduled_service: string, iata_code: string, gps_code: string, local_code: string, home_link: string, wikipedia_link: string, keywords: string, timestamp: timestamp, wind_dir: bigint, wind_speed: bigint, wind_speed_mph: double, visibility: bigint, temperature: bigint, dewpoint: bigint, altimeter: double]"
      ]
     },
     "execution_count": 36,
     "metadata": {},
     "output_type": "execute_result"
    }
   ],
   "source": [
    "processed_airports_df"
   ]
  },
  {
   "cell_type": "code",
   "execution_count": 0,
   "metadata": {
    "application/vnd.databricks.v1+cell": {
     "cellMetadata": {
      "byteLimit": 2048000,
      "rowLimit": 10000
     },
     "inputWidgets": {},
     "nuid": "60c4ff4b-8b9f-45cd-84bd-c25e3017132c",
     "showTitle": true,
     "tableResultSettingsMap": {},
     "title": "View processed airports"
    }
   },
   "outputs": [
    {
     "name": "stdout",
     "output_type": "stream",
     "text": [
      "+---------+------+-----+--------------+--------------------------------------+------------------+-------------------+------------+---------+-----------+----------+------------------+-----------------+---------+--------+----------+----------------------------+--------------------------------------------------------------------+----------+-------------------+--------+----------+--------------+----------+-----------+--------+---------+\n",
      "|icao_code|id    |ident|type          |name                                  |latitude_deg      |longitude_deg      |elevation_ft|continent|iso_country|iso_region|municipality      |scheduled_service|iata_code|gps_code|local_code|home_link                   |wikipedia_link                                                      |keywords  |timestamp          |wind_dir|wind_speed|wind_speed_mph|visibility|temperature|dewpoint|altimeter|\n",
      "+---------+------+-----+--------------+--------------------------------------+------------------+-------------------+------------+---------+-----------+----------+------------------+-----------------+---------+--------+----------+----------------------------+--------------------------------------------------------------------+----------+-------------------+--------+----------+--------------+----------+-----------+--------+---------+\n",
      "|CYGW     |1752  |CYGW |medium_airport|Kuujjuarapik Airport                  |55.281898498535156|-77.76529693603516 |34          |NA       |CA         |CA-QC     |Kuujjuarapik      |yes              |YGW      |CYGW    |NULL      |NULL                        |https://en.wikipedia.org/wiki/Kuujjuarapik_Airport                  |NULL      |2025-03-25 00:00:00|10      |4         |4.6           |9         |-16        |-18     |29.97    |\n",
      "|CYQD     |1865  |CYQD |medium_airport|The Pas Airport                       |53.97140121459961 |-101.09100341796875|887         |NA       |CA         |CA-MB     |The Pas           |yes              |YQD      |CYQD    |NULL      |NULL                        |https://en.wikipedia.org/wiki/The_Pas_Airport                       |NULL      |2025-03-25 00:00:00|340     |3         |3.45          |9         |4          |-5      |29.88    |\n",
      "|CYLL     |1803  |CYLL |medium_airport|Lloydminster Airport                  |53.3092           |-110.072998        |2193        |NA       |CA         |CA-AB     |Lloydminster      |yes              |YLL      |CYLL    |NULL      |NULL                        |https://en.wikipedia.org/wiki/Lloydminster_Airport                  |NULL      |2025-03-25 00:00:00|300     |4         |4.6           |15        |6          |1       |29.88    |\n",
      "|CBBC     |664   |CBBC |medium_airport|Bella Bella (Campbell Island) Airport |52.185001         |-128.156994        |141         |NA       |CA         |CA-BC     |Bella Bella       |yes              |ZEL      |CBBC    |CBBC      |NULL                        |https://en.wikipedia.org/wiki/Bella_Bella_(Campbell_Island)_Airport |BBC       |2025-03-25 00:00:00|320     |5         |5.75          |9         |12         |5       |30.11    |\n",
      "|CYER     |1722  |CYER |small_airport |Fort Severn Airport                   |56.018902         |-87.676102         |48          |NA       |CA         |CA-ON     |Fort Severn       |yes              |YER      |CYER    |NULL      |NULL                        |https://en.wikipedia.org/wiki/Fort_Severn_Airport                   |NULL      |2025-03-25 00:00:00|110     |6         |6.9           |9         |-12        |-15     |29.96    |\n",
      "|CYGV     |1751  |CYGV |medium_airport|Havre-Saint-Pierre Airport            |50.281898         |-63.611401         |124         |NA       |CA         |CA-QC     |Havre-Saint-Pierre|yes              |YGV      |CYGV    |NULL      |NULL                        |https://en.wikipedia.org/wiki/Havre_St-Pierre_Airport               |NULL      |2025-03-25 00:00:00|170     |4         |4.6           |9         |-7         |-11     |30.04    |\n",
      "|CYNM     |1829  |CYNM |medium_airport|Matagami Airport                      |49.76169967651367 |-77.80280303955078 |918         |NA       |CA         |CA-QC     |Matagami          |no               |YNM      |CYNM    |NULL      |NULL                        |https://en.wikipedia.org/wiki/Matagami_Airport                      |NULL      |2025-03-24 23:57:00|50      |5         |5.75          |3         |-6         |-8      |29.62    |\n",
      "|CYHY     |1769  |CYHY |medium_airport|Hay River / Merlyn Carter Airport     |60.8396987915     |-115.782997131     |541         |NA       |CA         |CA-NT     |Hay River         |yes              |YHY      |CYHY    |NULL      |NULL                        |https://en.wikipedia.org/wiki/Hay_River_Airport                     |NULL      |2025-03-25 00:00:00|320     |7         |8.06          |15        |-7         |-11     |29.89    |\n",
      "|CYQY     |1882  |CYQY |medium_airport|Sydney / J.A. Douglas McCurdy Airport |46.1614           |-60.047798         |203         |NA       |CA         |CA-NS     |Sydney            |yes              |YQY      |CYQY    |NULL      |http://www.sydneyairport.ca/|https://en.wikipedia.org/wiki/Sydney/J.A._Douglas_McCurdy_Airport   |NULL      |2025-03-25 00:00:00|140     |10        |11.51         |15        |-2         |-7      |30.19    |\n",
      "|CYYH     |1978  |CYYH |small_airport |Taloyoak Airport                      |69.5467           |-93.576698         |92          |NA       |CA         |CA-NU     |Taloyoak          |yes              |YYH      |CYYH    |NULL      |NULL                        |https://en.wikipedia.org/wiki/Taloyoak_Airport                      |Spence Bay|2025-03-25 00:00:00|230     |7         |8.06          |5         |-30        |-33     |30.05    |\n",
      "|CYYL     |1980  |CYYL |medium_airport|Lynn Lake Airport                     |56.86389923095703 |-101.07599639892578|1170        |NA       |CA         |CA-MB     |Lynn Lake         |yes              |YYL      |CYYL    |NULL      |NULL                        |https://en.wikipedia.org/wiki/Lynn_Lake_Airport                     |NULL      |2025-03-25 00:00:00|150     |3         |3.45          |9         |2          |-9      |29.87    |\n",
      "|CYPX     |1860  |CYPX |medium_airport|Puvirnituq Airport                    |60.050598         |-77.286903         |74          |NA       |CA         |CA-QC     |Puvirnituq        |yes              |YPX      |CYPX    |NULL      |NULL                        |https://en.wikipedia.org/wiki/Puvirnituq_Airport                    |NULL      |2025-03-25 00:01:00|330     |15        |17.26         |9         |-18        |-21     |29.99    |\n",
      "|CYXZ     |1971  |CYXZ |medium_airport|Wawa Airport                          |47.96670150756836 |-84.78669738769531 |942         |NA       |CA         |CA-ON     |Wawa              |no               |YXZ      |CYXZ    |NULL      |NULL                        |https://en.wikipedia.org/wiki/Wawa_Airport                          |NULL      |2025-03-25 00:00:00|30      |7         |8.06          |12        |-2         |-5      |29.64    |\n",
      "|CYEK     |1718  |CYEK |small_airport |Arviat Airport                        |61.0942           |-94.070801         |32          |NA       |CA         |CA-NU     |Arviat            |yes              |YEK      |CYEK    |NULL      |NULL                        |https://en.wikipedia.org/wiki/Arviat_Airport                        |NULL      |2025-03-24 23:54:00|110     |4         |4.6           |2         |-13        |-15     |29.99    |\n",
      "|CYVC     |1933  |CYVC |medium_airport|La Ronge Airport                      |55.151401519800004|-105.262001038     |1242        |NA       |CA         |CA-SK     |La Ronge          |yes              |YVC      |CYVC    |NULL      |NULL                        |https://en.wikipedia.org/wiki/La_Ronge_(Barber_Field)_Airport       |NULL      |2025-03-25 00:00:00|40      |6         |6.9           |15        |2          |-6      |29.86    |\n",
      "|CYXR     |1965  |CYXR |medium_airport|Earlton (Timiskaming Regional) Airport|47.697400654599996|-79.8473453522     |800         |NA       |CA         |CA-ON     |Earlton           |no               |YXR      |CYXR    |NULL      |NULL                        |https://en.wikipedia.org/wiki/Earlton_(Timiskaming_Regional)_Airport|yxr       |2025-03-25 00:22:00|360     |11        |12.66         |6         |-3         |-5      |29.52    |\n",
      "|CYVL     |314953|CYVL |small_airport |Tommy Kochon Airport                  |67.02             |-126.126           |870         |NA       |CA         |CA-NT     |Colville Lake     |yes              |YCK      |CYVL    |NULL      |NULL                        |https://en.wikipedia.org/wiki/Colville_Lake/Tommy_Kochon_Aerodrome  |NULL      |2025-03-24 23:49:00|340     |5         |5.75          |5         |-18        |-22     |30.0     |\n",
      "|CYPH     |1847  |CYPH |small_airport |Inukjuak Airport                      |58.471901         |-78.076897         |83          |NA       |CA         |CA-QC     |Inukjuak          |yes              |YPH      |CYPH    |NULL      |NULL                        |https://en.wikipedia.org/wiki/Inukjuak_Airport                      |NULL      |2025-03-25 00:00:00|10      |7         |8.06          |9         |-17        |-21     |30.02    |\n",
      "|CYOJ     |1836  |CYOJ |medium_airport|High Level Airport                    |58.62139892578125 |-117.16500091552734|1110        |NA       |CA         |CA-AB     |High Level        |yes              |YOJ      |CYOJ    |NULL      |NULL                        |https://en.wikipedia.org/wiki/High_Level_Airport                    |NULL      |2025-03-25 00:00:00|310     |6         |6.9           |15        |7          |-3      |29.81    |\n",
      "|CYHD     |1757  |CYHD |medium_airport|Dryden Regional Airport               |49.831699         |-92.744202         |1354        |NA       |CA         |CA-ON     |Dryden            |no               |YHD      |CYHD    |NULL      |NULL                        |https://en.wikipedia.org/wiki/Dryden_Regional_Airport               |NULL      |2025-03-25 00:00:00|330     |4         |4.6           |9         |-1         |-12     |29.85    |\n",
      "+---------+------+-----+--------------+--------------------------------------+------------------+-------------------+------------+---------+-----------+----------+------------------+-----------------+---------+--------+----------+----------------------------+--------------------------------------------------------------------+----------+-------------------+--------+----------+--------------+----------+-----------+--------+---------+\n",
      "only showing top 20 rows\n",
      "\n"
     ]
    }
   ],
   "source": [
    "processed_airports_df.show(truncate=False)"
   ]
  },
  {
   "cell_type": "markdown",
   "metadata": {
    "application/vnd.databricks.v1+cell": {
     "cellMetadata": {
      "byteLimit": 2048000,
      "rowLimit": 10000
     },
     "inputWidgets": {},
     "nuid": "f70c0917-c36c-4535-a299-d8f76cc09778",
     "showTitle": false,
     "tableResultSettingsMap": {},
     "title": ""
    }
   },
   "source": [
    "# Overwrite and save csv Files"
   ]
  },
  {
   "cell_type": "markdown",
   "metadata": {},
   "source": [
    "Commenting out for security reasons"
   ]
  },
  {
   "cell_type": "code",
   "execution_count": 0,
   "metadata": {
    "application/vnd.databricks.v1+cell": {
     "cellMetadata": {
      "byteLimit": 2048000,
      "rowLimit": 10000
     },
     "inputWidgets": {},
     "nuid": "9afa6ce7-fc81-4fce-af81-970e5d36f79c",
     "showTitle": true,
     "tableResultSettingsMap": {},
     "title": "Overwrite and Save flight Data"
    }
   },
   "outputs": [],
   "source": [
    "save_stable_csv(\n",
    "    df=flights_df_clean,\n",
    "    #temp_path=temporarily commenting,\n",
    "    #final_path=temporarily commenting,\n",
    "    filename=\"flights.csv\"\n",
    ")"
   ]
  },
  {
   "cell_type": "code",
   "execution_count": null,
   "metadata": {
    "application/vnd.databricks.v1+cell": {
     "cellMetadata": {
      "byteLimit": 2048000,
      "rowLimit": 10000
     },
     "inputWidgets": {},
     "nuid": "67f387dd-d7e0-401e-8088-bbd0bea596fb",
     "showTitle": true,
     "tableResultSettingsMap": {},
     "title": "Overwrite and Save processed airports file"
    }
   },
   "outputs": [
    {
     "ename": "NameError",
     "evalue": "name 'save_stable_csv' is not defined",
     "output_type": "error",
     "traceback": [
      "\u001b[1;31m---------------------------------------------------------------------------\u001b[0m",
      "\u001b[1;31mNameError\u001b[0m                                 Traceback (most recent call last)",
      "Cell \u001b[1;32mIn[2], line 1\u001b[0m\n\u001b[1;32m----> 1\u001b[0m \u001b[43msave_stable_csv\u001b[49m(\n\u001b[0;32m      2\u001b[0m     df\u001b[38;5;241m=\u001b[39mprocessed_airports_df,\n\u001b[0;32m      3\u001b[0m     \u001b[38;5;66;03m#temp_path=\"abfss://processed@flightdata2025.dfs.core.windows.net/processed_airports_csv_temp\",\u001b[39;00m\n\u001b[0;32m      4\u001b[0m     final_path\u001b[38;5;241m=\u001b[39m\u001b[38;5;124m\"\u001b[39m\u001b[38;5;124mabfss://processed@flightdata2025.dfs.core.windows.net/processed_airports_csv\u001b[39m\u001b[38;5;124m\"\u001b[39m,\n\u001b[0;32m      5\u001b[0m     filename\u001b[38;5;241m=\u001b[39m\u001b[38;5;124m\"\u001b[39m\u001b[38;5;124mprocessed_airports.csv\u001b[39m\u001b[38;5;124m\"\u001b[39m\n\u001b[0;32m      6\u001b[0m )\n",
      "\u001b[1;31mNameError\u001b[0m: name 'save_stable_csv' is not defined"
     ]
    }
   ],
   "source": [
    "save_stable_csv(\n",
    "    df=processed_airports_df,\n",
    "    #temp_path=temporarily commenting,\n",
    "    #final_path=temporarily commenting,\n",
    "    filename=\"processed_airports.csv\"\n",
    ")"
   ]
  },
  {
   "cell_type": "code",
   "execution_count": 0,
   "metadata": {
    "application/vnd.databricks.v1+cell": {
     "cellMetadata": {
      "byteLimit": 2048000,
      "rowLimit": 10000
     },
     "inputWidgets": {},
     "nuid": "35c2c650-bfcb-45a7-b9ce-d8b4393db3c7",
     "showTitle": true,
     "tableResultSettingsMap": {},
     "title": "Overwrite and Save new airports_with_weather.parquet"
    }
   },
   "outputs": [],
   "source": [
    "save_stable_csv(\n",
    "    df=airports_with_weather_df,\n",
    "    #temp_path=temporarily commenting,\n",
    "    #final_path= temporarily commenting,\n",
    "    filename=\"airports_with_weather.csv\"\n",
    ")"
   ]
  },
  {
   "cell_type": "code",
   "execution_count": 0,
   "metadata": {
    "application/vnd.databricks.v1+cell": {
     "cellMetadata": {
      "byteLimit": 2048000,
      "rowLimit": 10000
     },
     "inputWidgets": {},
     "nuid": "b9d5fe1d-6e60-4def-b1f3-de59dc9c1d2d",
     "showTitle": false,
     "tableResultSettingsMap": {},
     "title": ""
    }
   },
   "outputs": [
    {
     "name": "stdout",
     "output_type": "stream",
     "text": [
      "[Truncated to first 1024 bytes]\n"
     ]
    },
    {
     "data": {
      "text/plain": [
       "'icao24,callsign,origin_country,time_position,last_contact,longitude,latitude,baro_altitude,on_ground,velocity,true_track,vertical_rate,geo_altitude,squawk,spi,position_source\\n4b1816,SWR935L,Switzerland,1742905483,1742905483,21.581,39.1825,10965.18,false,218.93,321.49,0.33,11308.08,6627,false,0\\nab1644,UAL1666,United States,1742905483,1742905483,-77.2351,38.1137,11262.36,false,262.12,33.07,0.0,11186.16,1011,false,0\\n4b1819,SWR252B,Switzerland,1742905482,1742905482,16.4373,45.5644,10652.76,false,240.9,117.33,0.0,10675.62,3056,false,0\\naa3cbd,N759P,United States,1742905482,1742905482,-81.548,40.8857,609.6,false,82.78,122.31,-0.33,586.74,5550,false,0\\ne8027d,LPE2304,Chile,1742905479,1742905479,-77.2976,-12.0977,2545.08,false,146.19,267.98,13.98,,,false,0\\n801638,AXB2749,India,1742905482,1742905483,75.8739,27.5647,8458.2,false,230.37,36.92,-9.75,8846.82,,false,0\\na3feec,N357BE,United States,1742905482,1742905482,-102.4475,46.0617,11582.4,false,193.54,232.89,-0.33,11529.06,3653,false,0\\n39de4b,TVF71LC,France,1742905482,17'"
      ]
     },
     "execution_count": 41,
     "metadata": {},
     "output_type": "execute_result"
    }
   ],
   "source": [
    "dbutils.fs.head(\"abfss://processed@flightdata2025.dfs.core.windows.net/flights_csv/flights.csv\", 1024)"
   ]
  }
 ],
 "metadata": {
  "application/vnd.databricks.v1+notebook": {
   "computePreferences": null,
   "dashboards": [],
   "environmentMetadata": {
    "base_environment": "",
    "environment_version": "2"
   },
   "language": "python",
   "notebookMetadata": {
    "pythonIndentUnit": 4
   },
   "notebookName": "FDIPPipeline",
   "widgets": {}
  },
  "language_info": {
   "name": "python"
  }
 },
 "nbformat": 4,
 "nbformat_minor": 0
}
