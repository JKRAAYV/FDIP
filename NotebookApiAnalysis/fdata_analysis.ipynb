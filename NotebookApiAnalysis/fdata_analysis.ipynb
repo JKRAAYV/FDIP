{
 "cells": [
  {
   "cell_type": "code",
   "execution_count": 33,
   "metadata": {},
   "outputs": [],
   "source": [
    "import requests\n",
    "\n",
    "from pyspark.sql import SparkSession\n",
    "from pyspark.sql.types import (\n",
    "    StructType, StructField, StringType, LongType, DoubleType, BooleanType, ArrayType\n",
    ")\n",
    "import os\n",
    "from dotenv import load_dotenv\n",
    "load_dotenv()\n",
    "PYTHONDIRECTORY = os.getenv(\"PYTHONDIRECTORY\")\n",
    "os.environ[\"PYSPARK_PYTHON\"] = PYTHONDIRECTORY"
   ]
  },
  {
   "cell_type": "code",
   "execution_count": 34,
   "metadata": {},
   "outputs": [],
   "source": [
    "# Initialize Spark session\n",
    "spark = SparkSession.builder \\\n",
    "    .appName(\"OpenSkyAPI\") \\\n",
    "    .config(\"spark.pyspark.python\", PYTHONDIRECTORY) \\\n",
    "    .getOrCreate()"
   ]
  },
  {
   "cell_type": "code",
   "execution_count": 35,
   "metadata": {},
   "outputs": [],
   "source": [
    "# URL for the OpenSky API endpoint\n",
    "url = \"https://opensky-network.org/api/states/all\"\n",
    "\n",
    "# Request data from the API\n",
    "response = requests.get(url)\n",
    "data = response.json()\n",
    "\n",
    "# Extract the list of flight states\n",
    "states = data.get('states', [])"
   ]
  },
  {
   "cell_type": "code",
   "execution_count": 36,
   "metadata": {},
   "outputs": [],
   "source": [
    "# Function to convert int values to float for fields that expect DoubleType\n",
    "def convert_row(row):\n",
    "    # Make a copy of the row (which is a list)\n",
    "    new_row = list(row)\n",
    "    # For fields: longitude (index 5), latitude (6), baro_altitude (7), velocity (9),\n",
    "    # true_track (10), vertical_rate (11), geo_altitude (13)\n",
    "    for idx in [5, 6, 7, 9, 10, 11, 13]:\n",
    "        val = new_row[idx]\n",
    "        if val is not None:\n",
    "            new_row[idx] = float(val)\n",
    "    return new_row\n",
    "\n",
    "# Convert each row accordingly\n",
    "states = [convert_row(row) for row in states]"
   ]
  },
  {
   "cell_type": "code",
   "execution_count": 37,
   "metadata": {},
   "outputs": [],
   "source": [
    "# Define an explicit schema based on the API documentation\n",
    "schema = StructType([\n",
    "    StructField(\"icao24\", StringType(), True),\n",
    "    StructField(\"callsign\", StringType(), True),\n",
    "    StructField(\"origin_country\", StringType(), True),\n",
    "    StructField(\"time_position\", LongType(), True),\n",
    "    StructField(\"last_contact\", LongType(), True),\n",
    "    StructField(\"longitude\", DoubleType(), True),\n",
    "    StructField(\"latitude\", DoubleType(), True),\n",
    "    StructField(\"baro_altitude\", DoubleType(), True),\n",
    "    StructField(\"on_ground\", BooleanType(), True),\n",
    "    StructField(\"velocity\", DoubleType(), True),\n",
    "    StructField(\"true_track\", DoubleType(), True),\n",
    "    StructField(\"vertical_rate\", DoubleType(), True),\n",
    "    StructField(\"sensors\", ArrayType(LongType()), True),\n",
    "    StructField(\"geo_altitude\", DoubleType(), True),\n",
    "    StructField(\"squawk\", StringType(), True),\n",
    "    StructField(\"spi\", BooleanType(), True),\n",
    "    StructField(\"position_source\", LongType(), True)\n",
    "])"
   ]
  },
  {
   "cell_type": "code",
   "execution_count": 38,
   "metadata": {},
   "outputs": [],
   "source": [
    "# Create a Spark DataFrame using the explicit schema\n",
    "df = spark.createDataFrame(states, schema=schema)"
   ]
  },
  {
   "cell_type": "code",
   "execution_count": 39,
   "metadata": {},
   "outputs": [
    {
     "name": "stdout",
     "output_type": "stream",
     "text": [
      "+------+--------+--------------+-------------+------------+---------+--------+-------------+---------+--------+----------+-------------+-------+------------+------+-----+---------------+\n",
      "|icao24|callsign|origin_country|time_position|last_contact|longitude|latitude|baro_altitude|on_ground|velocity|true_track|vertical_rate|sensors|geo_altitude|squawk|  spi|position_source|\n",
      "+------+--------+--------------+-------------+------------+---------+--------+-------------+---------+--------+----------+-------------+-------+------------+------+-----+---------------+\n",
      "|4b1816|SWR252B |   Switzerland|   1742821770|  1742821770|  21.2923| 43.5866|      11277.6|    false|   248.4|    118.58|          0.0|   NULL|    11475.72|  3006|false|              0|\n",
      "|4b1818|SWR8GD  |   Switzerland|   1742821769|  1742821770|   8.2754| 47.4984|      2331.72|    false|  125.59|     18.88|        -8.45|   NULL|      2400.3|  5357|false|              0|\n",
      "|ab1644|UAL1108 | United States|   1742821760|  1742821760| -77.4373| 38.9549|         NULL|     true|     0.9|      90.0|         NULL|   NULL|        NULL|  NULL|false|              0|\n",
      "|4b1819|SWR935L |   Switzerland|   1742821769|  1742821769|  21.2502| 41.9253|     10965.18|    false|  217.82|    322.97|         0.33|   NULL|    11231.88|  2063|false|              0|\n",
      "|80162d|AXB2547 |         India|   1742821769|  1742821769|  73.3424| 19.2272|      2339.34|    false|  121.37|    101.74|        -4.88|   NULL|     2407.92|  0216|false|              0|\n",
      "|408120|VIR26Q  |United Kingdom|   1742821701|  1742821701| -73.7709| 40.6477|         NULL|     true|    8.23|    312.19|         NULL|   NULL|        NULL|  NULL|false|              0|\n",
      "|aa56db|UAL364  | United States|   1742821769|  1742821770| -87.8677| 43.1366|       9753.6|    false|  209.77|    266.49|          0.0|   NULL|     9349.74|  6447|false|              0|\n",
      "|a7b08d|LXJ595  | United States|   1742821770|  1742821770| -84.3518| 29.8753|      13106.4|    false|  213.23|    309.03|          0.0|   NULL|     13373.1|  6504|false|              0|\n",
      "|88044a|AIQ3430 |      Thailand|   1742821720|  1742821720|  99.6563| 17.2247|     10614.66|    false|  221.76|    162.45|        10.73|   NULL|     10591.8|  NULL|false|              0|\n",
      "|a2e5ec|SKW4136 | United States|   1742821768|  1742821769| -99.2935|  47.634|      9456.42|    false|   249.4|    116.99|         6.18|   NULL|     9204.96|  NULL|false|              0|\n",
      "|aa56da|UAL1262 | United States|   1742821769|  1742821769| -76.8587| 38.8636|       5791.2|    false|  156.59|    165.74|          0.0|   NULL|     5798.82|  3625|false|              0|\n",
      "|39de4b|TVF19MU |        France|   1742821769|  1742821769|   0.0648| 40.8793|      6233.16|    false|  193.01|    196.89|        -8.78|   NULL|      6248.4|  7663|false|              0|\n",
      "|39de4a|TVF96UH |        France|   1742821769|  1742821769|   5.0133| 49.5193|      8122.92|    false|  224.93|    254.34|       -12.35|   NULL|     8138.16|  1000|false|              0|\n",
      "|408124|EXS64RG |United Kingdom|   1742821770|  1742821770|  -1.6491| 52.3648|       655.32|    false|    86.9|    325.37|        -4.88|   NULL|      754.38|  5716|false|              0|\n",
      "|88044f|AIQ532  |      Thailand|   1742821769|  1742821769| 100.7086|  13.714|      4411.98|    false|  193.06|     66.44|         8.78|   NULL|      4686.3|  NULL|false|              0|\n",
      "|4b1812|SWR8YE  |   Switzerland|   1742821769|  1742821769|   3.8951| 51.2216|      6393.18|    false|  205.44|    336.07|        -5.53|   NULL|     6461.76|  1000|false|              0|\n",
      "|408121|VIR21K  |United Kingdom|   1742821769|  1742821769|  -4.2387| 51.8811|      9326.88|    false|  231.58|    283.88|         4.23|   NULL|     9479.28|  1252|false|              0|\n",
      "|a808bb|N61697  | United States|   1742821769|  1742821769| -80.6833| 26.0002|       701.04|    false|   57.44|    353.83|         0.65|   NULL|      754.38|  1200|false|              0|\n",
      "|ade18c|AAL3257 | United States|   1742821770|  1742821770|  -81.038| 34.6913|      5433.06|    false|  160.43|    203.03|         10.4|   NULL|      5524.5|  2544|false|              0|\n",
      "|abd9d9|SWA1793 | United States|   1742821769|  1742821769| -93.3416| 35.9163|      10363.2|    false|  180.84|    299.48|          0.0|   NULL|    10431.78|  3566|false|              0|\n",
      "+------+--------+--------------+-------------+------------+---------+--------+-------------+---------+--------+----------+-------------+-------+------------+------+-----+---------------+\n",
      "only showing top 20 rows\n",
      "\n"
     ]
    }
   ],
   "source": [
    "# Display the DataFrame\n",
    "df.show()\n"
   ]
  },
  {
   "cell_type": "code",
   "execution_count": 40,
   "metadata": {},
   "outputs": [
    {
     "data": {
      "text/plain": [
       "8934"
      ]
     },
     "execution_count": 40,
     "metadata": {},
     "output_type": "execute_result"
    }
   ],
   "source": [
    "df.count()"
   ]
  },
  {
   "cell_type": "code",
   "execution_count": 41,
   "metadata": {},
   "outputs": [
    {
     "name": "stdout",
     "output_type": "stream",
     "text": [
      "+-------+--------+--------+--------------+--------------------+--------------------+-------------------+------------------+-----------------+------------------+------------------+-------------------+-----------------+------------------+---------------+\n",
      "|summary|  icao24|callsign|origin_country|       time_position|        last_contact|          longitude|          latitude|    baro_altitude|          velocity|        true_track|      vertical_rate|     geo_altitude|            squawk|position_source|\n",
      "+-------+--------+--------+--------------+--------------------+--------------------+-------------------+------------------+-----------------+------------------+------------------+-------------------+-----------------+------------------+---------------+\n",
      "|  count|    8934|    8934|          8934|                8877|                8934|               8877|              8877|             8092|              8934|              8934|               8108|             8019|              6554|           8934|\n",
      "|   mean|Infinity| 2450.25|          NULL|1.7428217436484172E9|1.7428217519529886E9|-31.777686053847024|37.412783699448006|6966.310032130499|158.67113610924548|186.07024289232146|0.07341267883571777|7072.897493453048|3574.8892279523957|            0.0|\n",
      "| stddev|     NaN|  4900.5|          NULL|  116.27744058326337|   53.18666845515149|   67.9144364969762|14.126410687137762|4298.883304226765| 84.31409870602857|100.95022921826416|   5.10708665872996|4330.558681959913|2302.5368942724144|            0.0|\n",
      "|    min|  008187|        |       Albania|          1742816844|          1742821455|          -172.9827|          -41.5706|            -76.2|               0.0|               0.0|             -34.79|           -30.48|              0002|              0|\n",
      "|    max|  e940fe|ZXP02   |         Yemen|          1742821770|          1742821770|            174.802|           69.0651|         20025.36|             333.6|            359.87|              47.47|         28757.88|              7777|              0|\n",
      "+-------+--------+--------+--------------+--------------------+--------------------+-------------------+------------------+-----------------+------------------+------------------+-------------------+-----------------+------------------+---------------+\n",
      "\n"
     ]
    }
   ],
   "source": [
    "df.describe().show()"
   ]
  },
  {
   "cell_type": "code",
   "execution_count": 42,
   "metadata": {},
   "outputs": [
    {
     "name": "stdout",
     "output_type": "stream",
     "text": [
      "+------+--------+--------------+-------------+------------+---------+--------+-------------+---------+--------+----------+-------------+-------+------------+------+-----+---------------+\n",
      "|icao24|callsign|origin_country|time_position|last_contact|longitude|latitude|baro_altitude|on_ground|velocity|true_track|vertical_rate|sensors|geo_altitude|squawk|  spi|position_source|\n",
      "+------+--------+--------------+-------------+------------+---------+--------+-------------+---------+--------+----------+-------------+-------+------------+------+-----+---------------+\n",
      "|4b1818|SWR8GD  |   Switzerland|   1742821769|  1742821770|   8.2754| 47.4984|      2331.72|    false|  125.59|     18.88|        -8.45|   NULL|      2400.3|  5357|false|              0|\n",
      "+------+--------+--------------+-------------+------------+---------+--------+-------------+---------+--------+----------+-------------+-------+------------+------+-----+---------------+\n",
      "\n"
     ]
    }
   ],
   "source": [
    "df.where(df.icao24 == \"4b1818\").show()"
   ]
  },
  {
   "cell_type": "code",
   "execution_count": 43,
   "metadata": {},
   "outputs": [
    {
     "data": {
      "text/plain": [
       "[Row(icao24='3c670c', callsign='DLH742  ', origin_country='Germany', time_position=1742821767, last_contact=1742821768, longitude=30.819, latitude=42.6913, baro_altitude=11277.6, on_ground=False, velocity=302.16, true_track=106.21, vertical_rate=0.33, sensors=None, geo_altitude=11506.2, squawk='5271', spi=False, position_source=0),\n",
       " Row(icao24='7608f9', callsign='PIA946  ', origin_country='Pakistan', time_position=1742821770, last_contact=1742821770, longitude=55.0736, latitude=26.4096, baro_altitude=11887.2, on_ground=False, velocity=302.84, true_track=64.65, vertical_rate=0.33, sensors=None, geo_altitude=12412.98, squawk=None, spi=False, position_source=0),\n",
       " Row(icao24='899104', callsign='CAL5234 ', origin_country='Taiwan', time_position=1742821769, last_contact=1742821770, longitude=-113.1797, latitude=52.8979, baro_altitude=10058.4, on_ground=False, velocity=306.86, true_track=125.1, vertical_rate=0.0, sensors=None, geo_altitude=9852.66, squawk=None, spi=False, position_source=0),\n",
       " Row(icao24='ac8efa', callsign='EDV5069 ', origin_country='United States', time_position=1742821770, last_contact=1742821770, longitude=-82.5025, latitude=41.0044, baro_altitude=9448.8, on_ground=False, velocity=307.45, true_track=69.02, vertical_rate=0.33, sensors=None, geo_altitude=9212.58, squawk='4030', spi=False, position_source=0),\n",
       " Row(icao24='71c217', callsign='KAL053  ', origin_country='Republic of Korea', time_position=1742821769, last_contact=1742821770, longitude=135.8439, latitude=35.0172, baro_altitude=10058.4, on_ground=False, velocity=311.98, true_track=105.98, vertical_rate=0.0, sensors=None, geo_altitude=10096.5, squawk='4322', spi=False, position_source=0),\n",
       " Row(icao24='a6dde2', callsign='N541Z   ', origin_country='United States', time_position=1742821769, last_contact=1742821770, longitude=-82.5967, latitude=39.7423, baro_altitude=9921.24, on_ground=False, velocity=313.21, true_track=64.82, vertical_rate=11.38, sensors=None, geo_altitude=9799.32, squawk=None, spi=False, position_source=0),\n",
       " Row(icao24='a3244a', callsign='AAL1040 ', origin_country='United States', time_position=1742821769, last_contact=1742821769, longitude=-81.7217, latitude=41.0662, baro_altitude=9448.8, on_ground=False, velocity=313.78, true_track=73.23, vertical_rate=0.0, sensors=None, geo_altitude=9227.82, squawk='0570', spi=False, position_source=0),\n",
       " Row(icao24='899082', callsign='EVA634  ', origin_country='Taiwan', time_position=1742821770, last_contact=1742821770, longitude=-107.333, latitude=51.45, baro_altitude=10058.4, on_ground=False, velocity=317.51, true_track=115.94, vertical_rate=0.0, sensors=None, geo_altitude=9867.9, squawk='7245', spi=False, position_source=0),\n",
       " Row(icao24='847183', callsign='NCA132  ', origin_country='Japan', time_position=1742821769, last_contact=1742821769, longitude=-109.1645, latitude=51.9872, baro_altitude=9448.8, on_ground=False, velocity=320.21, true_track=114.59, vertical_rate=0.0, sensors=None, geo_altitude=9265.92, squawk='4113', spi=False, position_source=0),\n",
       " Row(icao24='ae63f4', callsign='SR01    ', origin_country='United States', time_position=1742821770, last_contact=1742821770, longitude=-93.5883, latitude=42.6213, baro_altitude=8199.12, on_ground=False, velocity=333.6, true_track=111.34, vertical_rate=3.25, sensors=None, geo_altitude=7917.18, squawk='6564', spi=False, position_source=0)]"
      ]
     },
     "execution_count": 43,
     "metadata": {},
     "output_type": "execute_result"
    }
   ],
   "source": [
    "df.orderBy(df.velocity).tail(10)"
   ]
  }
 ],
 "metadata": {
  "kernelspec": {
   "display_name": "Python 3",
   "language": "python",
   "name": "python3"
  },
  "language_info": {
   "codemirror_mode": {
    "name": "ipython",
    "version": 3
   },
   "file_extension": ".py",
   "mimetype": "text/x-python",
   "name": "python",
   "nbconvert_exporter": "python",
   "pygments_lexer": "ipython3",
   "version": "3.11.5"
  }
 },
 "nbformat": 4,
 "nbformat_minor": 2
}
