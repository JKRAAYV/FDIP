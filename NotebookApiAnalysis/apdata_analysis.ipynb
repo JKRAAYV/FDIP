{
 "cells": [
  {
   "cell_type": "markdown",
   "metadata": {},
   "source": [
    "# Extracting Airport Data"
   ]
  },
  {
   "cell_type": "markdown",
   "metadata": {},
   "source": [
    "Libraries Necessary to Extract Airport information"
   ]
  },
  {
   "cell_type": "code",
   "execution_count": 120,
   "metadata": {},
   "outputs": [],
   "source": [
    "import requests\n",
    "from pyspark.sql import SparkSession\n",
    "from pyspark.sql import Row\n",
    "from datetime import datetime\n",
    "from pyspark.sql.functions import coalesce\n",
    "from pyspark.sql.types import (\n",
    "    StructType, StructField, StringType, LongType, DoubleType, BooleanType, ArrayType\n",
    ")\n",
    "import os\n",
    "from dotenv import load_dotenv\n",
    "load_dotenv()\n",
    "PYTHONDIRECTORY = os.getenv(\"PYTHONDIRECTORY\")\n",
    "os.environ[\"PYSPARK_PYTHON\"] = PYTHONDIRECTORY"
   ]
  },
  {
   "cell_type": "markdown",
   "metadata": {},
   "source": [
    "## Building Session to create dataframe"
   ]
  },
  {
   "cell_type": "code",
   "execution_count": 121,
   "metadata": {},
   "outputs": [],
   "source": [
    "# Initialize Spark session\n",
    "spark = SparkSession.builder \\\n",
    "    .appName(\"AirportData\") \\\n",
    "    .config(\"spark.pyspark.python\", PYTHONDIRECTORY) \\\n",
    "    .getOrCreate()"
   ]
  },
  {
   "cell_type": "code",
   "execution_count": 122,
   "metadata": {},
   "outputs": [
    {
     "name": "stdout",
     "output_type": "stream",
     "text": [
      "<class 'pyspark.sql.dataframe.DataFrame'>\n"
     ]
    }
   ],
   "source": [
    "df = spark.read.csv(\"../files/airports.csv\", header=True, inferSchema=True)\n",
    "print(type(df))"
   ]
  },
  {
   "cell_type": "markdown",
   "metadata": {},
   "source": [
    "## Sample of Dataframe"
   ]
  },
  {
   "cell_type": "code",
   "execution_count": 123,
   "metadata": {},
   "outputs": [
    {
     "name": "stdout",
     "output_type": "stream",
     "text": [
      "+------+-----+-------------+--------------------+------------------+-------------------+------------+---------+-----------+----------+------------+-----------------+---------+---------+--------+----------+--------------------+--------------------+-----------+\n",
      "|    id|ident|         type|                name|      latitude_deg|      longitude_deg|elevation_ft|continent|iso_country|iso_region|municipality|scheduled_service|icao_code|iata_code|gps_code|local_code|           home_link|      wikipedia_link|   keywords|\n",
      "+------+-----+-------------+--------------------+------------------+-------------------+------------+---------+-----------+----------+------------+-----------------+---------+---------+--------+----------+--------------------+--------------------+-----------+\n",
      "|  6523|  00A|     heliport|   Total RF Heliport|         40.070985|         -74.933689|          11|       NA|         US|     US-PA|    Bensalem|               no|     NULL|     NULL|    K00A|       00A|https://www.pennd...|                NULL|       NULL|\n",
      "|323361| 00AA|small_airport|Aero B Ranch Airport|         38.704022|        -101.473911|        3435|       NA|         US|     US-KS|       Leoti|               no|     NULL|     NULL|    00AA|      00AA|                NULL|                NULL|       NULL|\n",
      "|  6524| 00AK|small_airport|        Lowell Field|         59.947733|        -151.692524|         450|       NA|         US|     US-AK|Anchor Point|               no|     NULL|     NULL|    00AK|      00AK|                NULL|                NULL|       NULL|\n",
      "|  6525| 00AL|small_airport|        Epps Airpark| 34.86479949951172| -86.77030181884766|         820|       NA|         US|     US-AL|     Harvest|               no|     NULL|     NULL|    00AL|      00AL|                NULL|                NULL|       NULL|\n",
      "|506791| 00AN|small_airport|Katmai Lodge Airport|         59.093287|        -156.456699|          80|       NA|         US|     US-AK| King Salmon|               no|     NULL|     NULL|    00AN|      00AN|                NULL|                NULL|       NULL|\n",
      "|322127| 00AS|small_airport|      Fulton Airport|        34.9428028|        -97.8180194|        1100|       NA|         US|     US-OK|        Alex|               no|     NULL|     NULL|    00AS|      00AS|                NULL|                NULL|       NULL|\n",
      "|  6527| 00AZ|small_airport|      Cordes Airport|34.305599212646484|-112.16500091552734|        3810|       NA|         US|     US-AZ|      Cordes|               no|     NULL|     NULL|    00AZ|      00AZ|                NULL|                NULL|       NULL|\n",
      "|  6528| 00CA|small_airport|Goldstone (GTS) A...|          35.35474|        -116.885329|        3038|       NA|         US|     US-CA|     Barstow|               no|     NULL|     NULL|    00CA|      00CA|                NULL|https://en.wikipe...|       NULL|\n",
      "|324424| 00CL|small_airport| Williams Ag Airport|         39.427188|        -121.763427|          87|       NA|         US|     US-CA|       Biggs|               no|     NULL|     NULL|    00CL|      00CL|                NULL|                NULL|       NULL|\n",
      "|322658| 00CN|     heliport|Kitchen Creek Hel...|        32.7273736|       -116.4597417|        3350|       NA|         US|     US-CA| Pine Valley|               no|     NULL|     NULL|    00CN|      00CN|                NULL|                NULL|       NULL|\n",
      "|  6531| 00FA|small_airport| Grass Patch Airport| 28.64550018310547| -82.21900177001953|          53|       NA|         US|     US-FL|    Bushnell|               no|     NULL|     NULL|    00FA|      00FA|                NULL|                NULL|       NULL|\n",
      "|  6533| 00FL|small_airport|   River Oak Airport|27.230899810791016| -80.96920013427734|          35|       NA|         US|     US-FL|  Okeechobee|               no|     NULL|     NULL|    00FL|      00FL|                NULL|                NULL|       NULL|\n",
      "|  6534| 00GA|small_airport|    Lt World Airport| 33.76750183105469| -84.06829833984375|         700|       NA|         US|     US-GA|    Lithonia|               no|     NULL|     NULL|    00GA|      00GA|                NULL|                NULL|       NULL|\n",
      "|  6535| 00GE|     heliport|    Caffrey Heliport|         33.887982|         -84.736983|         957|       NA|         US|     US-GA|       Hiram|               no|     NULL|     NULL|    00GE|      00GE|                NULL|                NULL|       NULL|\n",
      "|  6536| 00HI|     heliport|  Kaupulehu Heliport|         19.832881|        -155.978347|          43|       OC|         US|     US-HI| Kailua-Kona|               no|     NULL|     NULL|    00HI|      00HI|                NULL|                NULL|       NULL|\n",
      "|  6537| 00ID|small_airport|Delta Shores Airport|48.145301818847656|-116.21399688720703|        2064|       NA|         US|     US-ID|  Clark Fork|               no|     NULL|     NULL|    00ID|      00ID|                NULL|                NULL|       NULL|\n",
      "|322581| 00IG|small_airport|       Goltl Airport|         39.724028|        -101.395994|        3359|       NA|         US|     US-KS|    McDonald|               no|     NULL|     NULL|    00IG|      00IG|                NULL|                NULL|       NULL|\n",
      "|  6539| 00IL|small_airport|      Hammer Airport|         41.978401|         -89.560402|         840|       NA|         US|     US-IL|        Polo|               no|     NULL|     NULL|    00IL|      00IL|                NULL|                NULL|Radio Ranch|\n",
      "|  6540| 00IN|     heliport|St Mary Medical C...| 41.51139831542969|  -87.2605972290039|         634|       NA|         US|     US-IN|      Hobart|               no|     NULL|     NULL|    00IN|      00IN|                NULL|                NULL|       NULL|\n",
      "|  6541| 00IS|small_airport|Hayenga's Cant Fi...| 40.02560043334961|  -89.1229019165039|         820|       NA|         US|     US-IL|       Kings|               no|     NULL|     NULL|    00IS|      00IS|                NULL|                NULL|       NULL|\n",
      "+------+-----+-------------+--------------------+------------------+-------------------+------------+---------+-----------+----------+------------+-----------------+---------+---------+--------+----------+--------------------+--------------------+-----------+\n",
      "only showing top 20 rows\n",
      "\n"
     ]
    }
   ],
   "source": [
    "df.show()"
   ]
  },
  {
   "cell_type": "markdown",
   "metadata": {},
   "source": [
    "# Extracting and Parsing Airport Weather Data"
   ]
  },
  {
   "cell_type": "markdown",
   "metadata": {},
   "source": [
    "This is ultimately the process that will be used to extract updated weather data within databricks for joining relevant weather data with airports."
   ]
  },
  {
   "cell_type": "markdown",
   "metadata": {},
   "source": [
    "## Libraries Necessary to extract weather data"
   ]
  },
  {
   "cell_type": "code",
   "execution_count": 124,
   "metadata": {},
   "outputs": [],
   "source": [
    "import ftplib\n",
    "import io\n",
    "import re"
   ]
  },
  {
   "cell_type": "markdown",
   "metadata": {},
   "source": [
    "## Function to download weather data."
   ]
  },
  {
   "cell_type": "code",
   "execution_count": 125,
   "metadata": {},
   "outputs": [],
   "source": [
    "def download_metar_file(hour_utc=\"00\"):\n",
    "    filename = f\"{hour_utc}Z.TXT\"\n",
    "    host = \"tgftp.nws.noaa.gov\"\n",
    "    dir_path = \"/data/observations/metar/cycles/\"\n",
    "\n",
    "    # Connect to FTP\n",
    "    ftp = ftplib.FTP(host)\n",
    "    ftp.login()\n",
    "    ftp.cwd(dir_path)\n",
    "\n",
    "    # Download file content\n",
    "    r = io.BytesIO()\n",
    "    ftp.retrbinary(f\"RETR {filename}\", r.write)\n",
    "    ftp.quit()\n",
    "    \n",
    "    # Convert bytes to string\n",
    "    content = r.getvalue().decode(\"utf-8\", errors=\"ignore\")\n",
    "    return content"
   ]
  },
  {
   "cell_type": "markdown",
   "metadata": {},
   "source": [
    "## Download Weather Data"
   ]
  },
  {
   "cell_type": "code",
   "execution_count": 126,
   "metadata": {},
   "outputs": [
    {
     "name": "stdout",
     "output_type": "stream",
     "text": [
      "2025/03/22 23:45\n",
      "KGUL 222345Z AUTO 14009KT 6SM HZ FEW030 23/18 A3000 RMK A01\n",
      "\n",
      "2025/03/22 23:50\n",
      "KIKT 222350Z AUTO 14007KT 10SM CLR 19/00 A3013 RMK A01\n",
      "\n",
      "2025/03/22 23:50\n",
      "KANR 222350Z AUTO 15020KT 10SM FEW028 BKN038 OVC047 23/16 A3016 RMK A01\n",
      "\n",
      "2025/03/22 23:50\n",
      "KXER 222350Z AUTO 13015KT 9SM 22/17 A3008 RMK A01\n",
      "\n",
      "2025/03/22 23:45\n",
      "KGUL 222345Z AUTO 14009KT 6SM HZ FEW030 23/18 A3000 RMK A01\n",
      "\n",
      "2025/03/22 23:50\n",
      "KANR 222350Z AUTO 15020KT 10SM FEW028 BKN038 OVC047 23/16 A3016 RMK A01\n",
      "\n",
      "2025/03/22 23:50\n",
      "KIKT 222350Z AUTO 14007KT 10SM CLR 19/00 A3013 RMK A01\n",
      "\n",
      "2025/03/22 23:50\n",
      "KXER 222350Z AUTO 13015KT 9SM 22/17 A3008 RMK A01\n",
      "\n",
      "2025/03/22 23:45\n",
      "KGUL 222345Z AUTO 14009KT 6SM HZ FEW030 23/18 A3000 RMK A01\n",
      "\n",
      "2025/03/22 23:50\n",
      "KIKT 222350Z AUTO 14007KT 10SM CLR 19/00 A3013 RMK A01\n",
      "\n",
      "2025/03/22 23:55\n",
      "KBFR 222355Z AUTO 00000KT 10SM CLR 10/M10 A3007 RMK AO2\n",
      "\n",
      "2025/03/22 23:47\n",
      "KEVB 222347Z 16005KT 10SM CLR 18/09 A3011 \n",
      "\n",
      "2025/03/22 23:55\n",
      "KBFR 222355Z AUTO 00000KT 10SM CLR 10/M10 A3007 RMK AO2\n",
      "\n",
      "2025/03/22 23:47\n",
      "KEVB \n"
     ]
    }
   ],
   "source": [
    "# Example: pull METARs from 00Z\n",
    "metar_data = download_metar_file(\"00\")\n",
    "print(metar_data[:1000])  # preview first 1000 chars"
   ]
  },
  {
   "cell_type": "markdown",
   "metadata": {},
   "source": [
    "## Parse Weather Data"
   ]
  },
  {
   "cell_type": "code",
   "execution_count": 127,
   "metadata": {},
   "outputs": [],
   "source": [
    "def parse_metar_entries(raw_data):\n",
    "    entries = raw_data.strip().split(\"\\n\\n\")  # Split by METAR blocks\n",
    "    parsed = []\n",
    "\n",
    "    for entry in entries:\n",
    "        lines = entry.strip().split(\"\\n\")\n",
    "        if len(lines) < 2:\n",
    "            continue  # Skip bad entries\n",
    "        try:\n",
    "            timestamp_str = lines[0]\n",
    "            metar_line = lines[1]\n",
    "            icao = metar_line.split()[0]\n",
    "            timestamp = datetime.strptime(timestamp_str, \"%Y/%m/%d %H:%M\")\n",
    "            parsed.append(Row(icao_code=icao, metar=metar_line, timestamp=timestamp))\n",
    "        except Exception as e:\n",
    "            print(f\"Skipping entry due to error: {e}\")\n",
    "            continue\n",
    "    \n",
    "    return parsed"
   ]
  },
  {
   "cell_type": "code",
   "execution_count": 128,
   "metadata": {},
   "outputs": [],
   "source": [
    "# Parse the entries into Spark-friendly rows\n",
    "parsed_rows = parse_metar_entries(metar_data)"
   ]
  },
  {
   "cell_type": "code",
   "execution_count": 129,
   "metadata": {},
   "outputs": [
    {
     "name": "stdout",
     "output_type": "stream",
     "text": [
      "+---------+-----------------------------------------------------------------------------+-------------------+\n",
      "|icao_code|metar                                                                        |timestamp          |\n",
      "+---------+-----------------------------------------------------------------------------+-------------------+\n",
      "|KGUL     |KGUL 222345Z AUTO 14009KT 6SM HZ FEW030 23/18 A3000 RMK A01                  |2025-03-22 23:45:00|\n",
      "|KIKT     |KIKT 222350Z AUTO 14007KT 10SM CLR 19/00 A3013 RMK A01                       |2025-03-22 23:50:00|\n",
      "|KANR     |KANR 222350Z AUTO 15020KT 10SM FEW028 BKN038 OVC047 23/16 A3016 RMK A01      |2025-03-22 23:50:00|\n",
      "|KXER     |KXER 222350Z AUTO 13015KT 9SM 22/17 A3008 RMK A01                            |2025-03-22 23:50:00|\n",
      "|KGUL     |KGUL 222345Z AUTO 14009KT 6SM HZ FEW030 23/18 A3000 RMK A01                  |2025-03-22 23:45:00|\n",
      "|KANR     |KANR 222350Z AUTO 15020KT 10SM FEW028 BKN038 OVC047 23/16 A3016 RMK A01      |2025-03-22 23:50:00|\n",
      "|KIKT     |KIKT 222350Z AUTO 14007KT 10SM CLR 19/00 A3013 RMK A01                       |2025-03-22 23:50:00|\n",
      "|KXER     |KXER 222350Z AUTO 13015KT 9SM 22/17 A3008 RMK A01                            |2025-03-22 23:50:00|\n",
      "|KGUL     |KGUL 222345Z AUTO 14009KT 6SM HZ FEW030 23/18 A3000 RMK A01                  |2025-03-22 23:45:00|\n",
      "|KIKT     |KIKT 222350Z AUTO 14007KT 10SM CLR 19/00 A3013 RMK A01                       |2025-03-22 23:50:00|\n",
      "|KBFR     |KBFR 222355Z AUTO 00000KT 10SM CLR 10/M10 A3007 RMK AO2                      |2025-03-22 23:55:00|\n",
      "|KEVB     |KEVB 222347Z 16005KT 10SM CLR 18/09 A3011                                    |2025-03-22 23:47:00|\n",
      "|KBFR     |KBFR 222355Z AUTO 00000KT 10SM CLR 10/M10 A3007 RMK AO2                      |2025-03-22 23:55:00|\n",
      "|KEVB     |KEVB 222347Z 16005KT 10SM CLR 18/09 A3011                                    |2025-03-22 23:47:00|\n",
      "|KC62     |KC62 222355Z AUTO 32006KT 10SM CLR 02/M08 A3006 RMK AO2 T00251080            |2025-03-22 23:55:00|\n",
      "|KIKT     |KIKT 222350Z AUTO 14007KT 10SM CLR 19/00 A3013 RMK A01                       |2025-03-22 23:50:00|\n",
      "|KMCX     |KMCX 222355Z AUTO 00000KT 10SM CLR 08/M09 A3006 RMK AO2 T00751092 10099 20060|2025-03-22 23:55:00|\n",
      "|KDYA     |KDYA 222355Z AUTO 00000KT 10SM CLR 22/07 A3005 RMK AO2 T02180071 10243 20211 |2025-03-22 23:55:00|\n",
      "|KDYA     |KDYA 222355Z AUTO 00000KT 10SM CLR 22/07 A3005 RMK AO2 T02180071 10243 20211 |2025-03-22 23:55:00|\n",
      "|KBFR     |KBFR 222355Z AUTO 00000KT 10SM CLR 10/M10 A3007 RMK AO2                      |2025-03-22 23:55:00|\n",
      "+---------+-----------------------------------------------------------------------------+-------------------+\n",
      "only showing top 20 rows\n",
      "\n"
     ]
    }
   ],
   "source": [
    "# Create DataFrame\n",
    "weather_df = spark.createDataFrame(parsed_rows)\n",
    "weather_df.show(truncate=False)"
   ]
  },
  {
   "cell_type": "markdown",
   "metadata": {},
   "source": [
    "## Parse Metar Data"
   ]
  },
  {
   "cell_type": "code",
   "execution_count": 130,
   "metadata": {},
   "outputs": [],
   "source": [
    "def safe_parse_metar(metar_row):\n",
    "    try:\n",
    "        metar = metar_row.metar\n",
    "        icao = metar_row.icao_code\n",
    "        timestamp = metar_row.timestamp\n",
    "\n",
    "        # REGEX patterns\n",
    "        wind_pattern = r\"(\\d{3}|VRB)(\\d{2})KT\"\n",
    "        visibility_pattern = r\"(\\d{1,2})SM\"\n",
    "        temp_dew_pattern = r\"(M?\\d{2})/(M?\\d{2})\"\n",
    "        altimeter_pattern = r\"A(\\d{4})\"\n",
    "\n",
    "        # Match and parse\n",
    "        wind_match = re.search(wind_pattern, metar)\n",
    "        vis_match = re.search(visibility_pattern, metar)\n",
    "        temp_match = re.search(temp_dew_pattern, metar)\n",
    "        alt_match = re.search(altimeter_pattern, metar)\n",
    "\n",
    "        def parse_temp(val):\n",
    "            return -int(val[1:]) if val.startswith(\"M\") else int(val)\n",
    "\n",
    "        wind_dir = int(wind_match.group(1).replace(\"VRB\", \"0\")) if wind_match else None\n",
    "        wind_speed = int(wind_match.group(2)) if wind_match else None\n",
    "        wind_speed_mph = round(wind_speed * 1.15078, 2) if wind_speed is not None else None\n",
    "\n",
    "        visibility = int(vis_match.group(1)) if vis_match else None\n",
    "        temperature = parse_temp(temp_match.group(1)) if temp_match else None\n",
    "        dewpoint = parse_temp(temp_match.group(2)) if temp_match else None\n",
    "        altimeter = float(alt_match.group(1)) / 100 if alt_match else None\n",
    "\n",
    "        return Row(\n",
    "            icao_code=icao,\n",
    "            timestamp=timestamp,\n",
    "            metar=metar,\n",
    "            wind_dir=wind_dir,\n",
    "            wind_speed=wind_speed,\n",
    "            wind_speed_mph=wind_speed_mph,\n",
    "            visibility=visibility,\n",
    "            temperature=temperature,\n",
    "            dewpoint=dewpoint,\n",
    "            altimeter=altimeter\n",
    "        )\n",
    "\n",
    "    except Exception as e:\n",
    "        print(f\"[Parse Error] ICAO={metar_row.icao_code}, Error={str(e)}\")\n",
    "        return None"
   ]
  },
  {
   "cell_type": "markdown",
   "metadata": {},
   "source": [
    "## Sample of Dataframe"
   ]
  },
  {
   "cell_type": "code",
   "execution_count": 131,
   "metadata": {},
   "outputs": [
    {
     "name": "stdout",
     "output_type": "stream",
     "text": [
      "+---------+-------------------+--------+----------+--------------+----------+-----------+--------+---------+\n",
      "|icao_code|timestamp          |wind_dir|wind_speed|wind_speed_mph|visibility|temperature|dewpoint|altimeter|\n",
      "+---------+-------------------+--------+----------+--------------+----------+-----------+--------+---------+\n",
      "|PAHO     |2025-03-22 23:53:00|0       |3         |3.45          |10        |6          |1       |29.48    |\n",
      "|KVNW     |2025-03-22 23:55:00|340     |8         |9.21          |10        |4          |-8      |30.07    |\n",
      "|KIOW     |2025-03-22 23:52:00|140     |6         |6.9           |10        |10         |-7      |29.97    |\n",
      "|KJNX     |2025-03-22 23:50:00|230     |5         |5.75          |10        |19         |0       |29.89    |\n",
      "|KSIF     |2025-03-22 23:45:00|270     |5         |5.75          |10        |18         |-6      |29.91    |\n",
      "|KNZY     |2025-03-22 23:52:00|200     |7         |8.06          |8         |16         |14      |29.95    |\n",
      "|KORF     |2025-03-22 23:51:00|270     |5         |5.75          |10        |20         |-3      |29.83    |\n",
      "|KAHN     |2025-03-22 23:51:00|260     |6         |6.9           |10        |19         |-1      |30.01    |\n",
      "|CYPX     |2025-03-22 23:53:00|320     |16        |18.41         |4         |-20        |-23     |29.62    |\n",
      "|KDPL     |2025-03-22 23:50:00|230     |3         |3.45          |10        |17         |1       |29.92    |\n",
      "|PAJN     |2025-03-22 23:53:00|120     |16        |18.41         |10        |6          |2       |29.69    |\n",
      "|KFDK     |2025-03-22 23:47:00|350     |6         |6.9           |10        |11         |3       |29.93    |\n",
      "|KEKN     |2025-03-22 23:51:00|290     |9         |10.36         |10        |8          |-2      |29.96    |\n",
      "|KCSM     |2025-03-22 23:53:00|190     |12        |13.81         |10        |23         |4       |29.7     |\n",
      "|KCKV     |2025-03-22 23:52:00|360     |5         |5.75          |10        |14         |-4      |30.07    |\n",
      "|KDVN     |2025-03-22 23:52:00|140     |5         |5.75          |10        |8          |-5      |30.02    |\n",
      "|KCUB     |2025-03-22 23:53:00|250     |6         |6.9           |10        |21         |-2      |29.97    |\n",
      "|CYDL     |2025-03-22 23:49:00|140     |5         |5.75          |9         |3          |-5      |29.62    |\n",
      "|CYPX     |2025-03-22 23:48:00|320     |16        |18.41         |5         |-20        |-23     |29.62    |\n",
      "|KLSF     |2025-03-22 23:45:00|0       |0         |0.0           |7         |19         |4       |30.02    |\n",
      "+---------+-------------------+--------+----------+--------------+----------+-----------+--------+---------+\n",
      "only showing top 20 rows\n",
      "\n"
     ]
    }
   ],
   "source": [
    "# Apply with safety\n",
    "parsed_weather_rdd = weather_df.rdd.map(safe_parse_metar).filter(lambda row: row is not None)\n",
    "\n",
    "# Create DataFrame\n",
    "parsed_weather_df = spark.createDataFrame(parsed_weather_rdd)\n",
    "\n",
    "# Drop METAR column\n",
    "parsed_weather_df = parsed_weather_df.drop(\"metar\")\n",
    "\n",
    "# Drop duplicates\n",
    "parsed_weather_df = parsed_weather_df.dropDuplicates([\"icao_code\", \"timestamp\"])\n",
    "\n",
    "#Drop null values\n",
    "parsed_weather_df = parsed_weather_df.dropna()\n",
    "\n",
    "# Test it (should NOT crash now)\n",
    "parsed_weather_df.show(truncate=False)"
   ]
  },
  {
   "cell_type": "markdown",
   "metadata": {},
   "source": [
    "# Joining Weather Data With Airport Data"
   ]
  },
  {
   "cell_type": "markdown",
   "metadata": {},
   "source": [
    "**Overview**\n",
    "\n",
    "This is ultimately the process that will be utilized within databricks to automatically update and create the processed flight data. (processed_airports.csv)"
   ]
  },
  {
   "cell_type": "markdown",
   "metadata": {},
   "source": [
    "Renaming gps_code to icao_code for airports data"
   ]
  },
  {
   "cell_type": "code",
   "execution_count": 132,
   "metadata": {},
   "outputs": [],
   "source": [
    "airports_df = df.withColumnRenamed(\"gps_code\", \"icao_code_1\")\n",
    "# Combine the two icao_code columns into one\n",
    "airports_df = airports_df.withColumn(\"icao_code_combined\", coalesce(airports_df[\"icao_code\"], airports_df[\"icao_code_1\"]))\n",
    "airports_df = airports_df.drop(\"icao_code\", \"icao_code_1\")\n",
    "airports_df = airports_df.withColumnRenamed(\"icao_code_combined\", \"icao_code\")"
   ]
  },
  {
   "cell_type": "code",
   "execution_count": 133,
   "metadata": {},
   "outputs": [
    {
     "name": "stdout",
     "output_type": "stream",
     "text": [
      "root\n",
      " |-- id: integer (nullable = true)\n",
      " |-- ident: string (nullable = true)\n",
      " |-- type: string (nullable = true)\n",
      " |-- name: string (nullable = true)\n",
      " |-- latitude_deg: double (nullable = true)\n",
      " |-- longitude_deg: double (nullable = true)\n",
      " |-- elevation_ft: integer (nullable = true)\n",
      " |-- continent: string (nullable = true)\n",
      " |-- iso_country: string (nullable = true)\n",
      " |-- iso_region: string (nullable = true)\n",
      " |-- municipality: string (nullable = true)\n",
      " |-- scheduled_service: string (nullable = true)\n",
      " |-- iata_code: string (nullable = true)\n",
      " |-- local_code: string (nullable = true)\n",
      " |-- home_link: string (nullable = true)\n",
      " |-- wikipedia_link: string (nullable = true)\n",
      " |-- keywords: string (nullable = true)\n",
      " |-- icao_code: string (nullable = true)\n",
      "\n"
     ]
    }
   ],
   "source": [
    "airports_df.printSchema()"
   ]
  },
  {
   "cell_type": "markdown",
   "metadata": {},
   "source": [
    "Separating airports with icao_code, from airports without icao_code."
   ]
  },
  {
   "cell_type": "code",
   "execution_count": 134,
   "metadata": {},
   "outputs": [],
   "source": [
    "airports_with_icao_df = airports_df.filter(airports_df['icao_code'].isNotNull())"
   ]
  },
  {
   "cell_type": "code",
   "execution_count": 135,
   "metadata": {},
   "outputs": [],
   "source": [
    "airports_with_weather_df = airports_with_icao_df.join(parsed_weather_df, on=\"icao_code\", how=\"inner\")"
   ]
  },
  {
   "cell_type": "code",
   "execution_count": 136,
   "metadata": {},
   "outputs": [],
   "source": [
    "#drop airport duplicates\n",
    "airports_with_weather_df = airports_with_weather_df.dropDuplicates([\"icao_code\"])"
   ]
  },
  {
   "cell_type": "markdown",
   "metadata": {},
   "source": [
    "## Sample of Dataframe"
   ]
  },
  {
   "cell_type": "code",
   "execution_count": 137,
   "metadata": {},
   "outputs": [
    {
     "name": "stdout",
     "output_type": "stream",
     "text": [
      "+---------+----+-----+--------------+-------------------------------------+------------------+-------------------+------------+---------+-----------+----------+------------------+-----------------+---------+----------+--------------------------+-------------------------------------------------------------------+----------------------+-------------------+--------+----------+--------------+----------+-----------+--------+---------+\n",
      "|icao_code|id  |ident|type          |name                                 |latitude_deg      |longitude_deg      |elevation_ft|continent|iso_country|iso_region|municipality      |scheduled_service|iata_code|local_code|home_link                 |wikipedia_link                                                     |keywords              |timestamp          |wind_dir|wind_speed|wind_speed_mph|visibility|temperature|dewpoint|altimeter|\n",
      "+---------+----+-----+--------------+-------------------------------------+------------------+-------------------+------------+---------+-----------+----------+------------------+-----------------+---------+----------+--------------------------+-------------------------------------------------------------------+----------------------+-------------------+--------+----------+--------------+----------+-----------+--------+---------+\n",
      "|CBBC     |664 |CBBC |medium_airport|Bella Bella (Campbell Island) Airport|52.185001         |-128.156994        |141         |NA       |CA         |CA-BC     |Bella Bella       |yes              |ZEL      |CBBC      |NULL                      |https://en.wikipedia.org/wiki/Bella_Bella_(Campbell_Island)_Airport|BBC                   |2025-03-23 00:00:00|120     |7         |8.06          |9         |6          |4       |29.88    |\n",
      "|CYBR     |1678|CYBR |medium_airport|Brandon Municipal Airport            |49.91             |-99.951897         |1343        |NA       |CA         |CA-MB     |Brandon           |yes              |YBR      |NULL      |NULL                      |https://en.wikipedia.org/wiki/Brandon_Airport                      |NULL                  |2025-03-23 00:00:00|60      |15        |17.26         |15        |-6         |-10     |29.72    |\n",
      "|CYBU     |1680|CYBU |medium_airport|Nipawin Airport                      |53.33250045776367 |-104.00800323486328|1220        |NA       |CA         |CA-SK     |Nipawin           |no               |NULL     |NULL      |NULL                      |https://en.wikipedia.org/wiki/Nipawin_Airport                      |YBU                   |2025-03-23 00:00:00|250     |4         |4.6           |9         |-7         |-13     |29.79    |\n",
      "|CYBX     |1683|CYBX |medium_airport|Lourdes-de-Blanc-Sablon Airport      |51.4436           |-57.185299         |121         |NA       |CA         |CA-QC     |Blanc-Sablon      |yes              |YBX      |NULL      |NULL                      |https://en.wikipedia.org/wiki/Lourdes-de-Blanc-Sablon_Airport      |NULL                  |2025-03-23 00:00:00|100     |4         |4.6           |2         |0          |0       |29.02    |\n",
      "|CYCO     |1693|CYCO |small_airport |Kugluktuk Airport                    |67.816408         |-115.14307         |74          |NA       |CA         |CA-NU     |Kugluktuk         |yes              |YCO      |NULL      |NULL                      |https://en.wikipedia.org/wiki/Kugluktuk_Airport                    |Copper Mine Airport   |2025-03-23 00:00:00|350     |8         |9.21          |12        |-23        |-26     |29.85    |\n",
      "|CYDC     |1705|CYDC |small_airport |Princeton Airport                    |49.468102         |-120.511002        |2298        |NA       |CA         |CA-BC     |Town of Princeton |no               |NULL     |NULL      |http://princetonairport.ca|https://en.wikipedia.org/wiki/Princeton_Airport_(British_Columbia) |YDC                   |2025-03-23 00:00:00|260     |9         |10.36         |20        |7          |-7      |29.98    |\n",
      "|CYEK     |1718|CYEK |small_airport |Arviat Airport                       |61.0942           |-94.070801         |32          |NA       |CA         |CA-NU     |Arviat            |yes              |YEK      |NULL      |NULL                      |https://en.wikipedia.org/wiki/Arviat_Airport                       |NULL                  |2025-03-23 00:00:00|320     |5         |5.75          |9         |-24        |-28     |29.9     |\n",
      "|CYER     |1722|CYER |small_airport |Fort Severn Airport                  |56.018902         |-87.676102         |48          |NA       |CA         |CA-ON     |Fort Severn       |yes              |YER      |NULL      |NULL                      |https://en.wikipedia.org/wiki/Fort_Severn_Airport                  |NULL                  |2025-03-23 00:00:00|60      |4         |4.6           |9         |-15        |-20     |29.97    |\n",
      "|CYFB     |1729|CYFB |medium_airport|Iqaluit Airport                      |63.756402         |-68.555801         |110         |NA       |CA         |CA-NU     |Iqaluit           |yes              |YFB      |NULL      |NULL                      |https://en.wikipedia.org/wiki/Iqaluit_Airport                      |Frobisher Bay Air Base|2025-03-23 00:00:00|50      |2         |2.3           |15        |-26        |-30     |29.82    |\n",
      "|CYGV     |1751|CYGV |medium_airport|Havre-Saint-Pierre Airport           |50.281898         |-63.611401         |124         |NA       |CA         |CA-QC     |Havre-Saint-Pierre|yes              |YGV      |NULL      |NULL                      |https://en.wikipedia.org/wiki/Havre_St-Pierre_Airport              |NULL                  |2025-03-23 00:00:00|260     |11        |12.66         |9         |-2         |-4      |29.3     |\n",
      "|CYGW     |1752|CYGW |medium_airport|Kuujjuarapik Airport                 |55.281898498535156|-77.76529693603516 |34          |NA       |CA         |CA-QC     |Kuujjuarapik      |yes              |YGW      |NULL      |NULL                      |https://en.wikipedia.org/wiki/Kuujjuarapik_Airport                 |NULL                  |2025-03-23 00:19:00|290     |19        |21.86         |4         |-17        |-20     |29.86    |\n",
      "|CYHD     |1757|CYHD |medium_airport|Dryden Regional Airport              |49.831699         |-92.744202         |1354        |NA       |CA         |CA-ON     |Dryden            |no               |YHD      |NULL      |NULL                      |https://en.wikipedia.org/wiki/Dryden_Regional_Airport              |NULL                  |2025-03-23 00:00:00|180     |6         |6.9           |9         |-5         |-20     |29.86    |\n",
      "|CYHY     |1769|CYHY |medium_airport|Hay River / Merlyn Carter Airport    |60.8396987915     |-115.782997131     |541         |NA       |CA         |CA-NT     |Hay River         |yes              |YHY      |NULL      |NULL                      |https://en.wikipedia.org/wiki/Hay_River_Airport                    |NULL                  |2025-03-23 00:00:00|300     |3         |3.45          |15        |-7         |-16     |29.73    |\n",
      "|CYIO     |1775|CYIO |small_airport |Pond Inlet Airport                   |72.689494         |-77.968941         |181         |NA       |CA         |CA-NU     |Pond Inlet        |yes              |YIO      |NULL      |NULL                      |https://en.wikipedia.org/wiki/Pond_Inlet_Airport                   |NULL                  |2025-03-23 00:00:00|160     |5         |5.75          |9         |-24        |-26     |29.8     |\n",
      "|CYJT     |1783|CYJT |medium_airport|Dymond Airport                       |48.544201         |-58.549999         |84          |NA       |CA         |CA-NL     |Stephenville      |no               |YJT      |NULL      |https://cyjt.com/         |https://en.wikipedia.org/wiki/Stephenville_Airport                 |Ernest Harmon AFB     |2025-03-23 00:00:00|250     |22        |25.32         |2         |1          |1       |29.2     |\n",
      "|CYKP     |1343|CYKP |small_airport |Ogoki Post Airport                   |51.6585998535     |-85.9017028809     |594         |NA       |CA         |CA-ON     |Ogoki Post        |yes              |YOG      |CYKP      |NULL                      |https://en.wikipedia.org/wiki/Ogoki_Post_Airport                   |NT3                   |2025-03-23 00:00:00|90      |4         |4.6           |9         |-12        |-20     |29.98    |\n",
      "|CYLL     |1803|CYLL |medium_airport|Lloydminster Airport                 |53.3092           |-110.072998        |2193        |NA       |CA         |CA-AB     |Lloydminster      |yes              |YLL      |NULL      |NULL                      |https://en.wikipedia.org/wiki/Lloydminster_Airport                 |NULL                  |2025-03-23 00:00:00|0       |0         |0.0           |10        |1          |-2      |29.7     |\n",
      "|CYNM     |1829|CYNM |medium_airport|Matagami Airport                     |49.76169967651367 |-77.80280303955078 |918         |NA       |CA         |CA-QC     |Matagami          |no               |YNM      |NULL      |NULL                      |https://en.wikipedia.org/wiki/Matagami_Airport                     |NULL                  |2025-03-23 00:00:00|320     |8         |9.21          |9         |-14        |-18     |29.93    |\n",
      "|CYOJ     |1836|CYOJ |medium_airport|High Level Airport                   |58.62139892578125 |-117.16500091552734|1110        |NA       |CA         |CA-AB     |High Level        |yes              |YOJ      |NULL      |NULL                      |https://en.wikipedia.org/wiki/High_Level_Airport                   |NULL                  |2025-03-23 00:00:00|360     |3         |3.45          |15        |0          |-2      |29.67    |\n",
      "|CYPH     |1847|CYPH |small_airport |Inukjuak Airport                     |58.471901         |-78.076897         |83          |NA       |CA         |CA-QC     |Inukjuak          |yes              |YPH      |NULL      |NULL                      |https://en.wikipedia.org/wiki/Inukjuak_Airport                     |NULL                  |2025-03-23 00:01:00|330     |22        |25.32         |2         |-19        |-21     |29.66    |\n",
      "+---------+----+-----+--------------+-------------------------------------+------------------+-------------------+------------+---------+-----------+----------+------------------+-----------------+---------+----------+--------------------------+-------------------------------------------------------------------+----------------------+-------------------+--------+----------+--------------+----------+-----------+--------+---------+\n",
      "only showing top 20 rows\n",
      "\n"
     ]
    }
   ],
   "source": [
    "airports_with_weather_df.show(truncate=False)"
   ]
  },
  {
   "cell_type": "markdown",
   "metadata": {},
   "source": [
    "# Dataframe Analysis"
   ]
  },
  {
   "cell_type": "markdown",
   "metadata": {},
   "source": [
    "Comparing Data Completeness"
   ]
  },
  {
   "cell_type": "code",
   "execution_count": 138,
   "metadata": {},
   "outputs": [
    {
     "name": "stdout",
     "output_type": "stream",
     "text": [
      "Data Completeness\n",
      "Total airports: 82775\n",
      "Total airports with icao: 43166\n",
      "Total weather entries: 4391\n",
      "Total airports with weather: 1947\n"
     ]
    }
   ],
   "source": [
    "print(\"Data Completeness\")\n",
    "print(f\"Total airports: {airports_df.count()}\")\n",
    "print(f\"Total airports with icao: {airports_with_icao_df.count()}\")\n",
    "print(f\"Total weather entries: {parsed_weather_df.count()}\")\n",
    "print(f\"Total airports with weather: {airports_with_weather_df.count()}\")"
   ]
  },
  {
   "cell_type": "markdown",
   "metadata": {},
   "source": [
    "Notes: Regarding the above information here are some important factors in play.\n",
    "\n",
    "__ICAO Coverage__: 52% of airports in the dataset have ICAO codes, enabling global weather integration using aviation-standard codes.\n",
    "- Many airports don’t report weather hourly\n",
    "- METAR feed is ~last hour only\n",
    "- Not all ICAO codes are active stations\n",
    "\n"
   ]
  },
  {
   "cell_type": "code",
   "execution_count": null,
   "metadata": {},
   "outputs": [],
   "source": []
  },
  {
   "cell_type": "markdown",
   "metadata": {},
   "source": [
    "# Separating and saving Data"
   ]
  },
  {
   "cell_type": "markdown",
   "metadata": {},
   "source": [
    "## Saving Airports with ICAO for weather updates"
   ]
  },
  {
   "cell_type": "code",
   "execution_count": 143,
   "metadata": {},
   "outputs": [],
   "source": [
    "import pandas as pd"
   ]
  },
  {
   "cell_type": "code",
   "execution_count": 144,
   "metadata": {},
   "outputs": [],
   "source": [
    "# Saving Airports with icao codes for future weather updates to csv\n",
    "airports_with_icao_df.toPandas().to_csv(\"../files/airports_with_icao.csv\", index=False)"
   ]
  }
 ],
 "metadata": {
  "kernelspec": {
   "display_name": "Python 3",
   "language": "python",
   "name": "python3"
  },
  "language_info": {
   "codemirror_mode": {
    "name": "ipython",
    "version": 3
   },
   "file_extension": ".py",
   "mimetype": "text/x-python",
   "name": "python",
   "nbconvert_exporter": "python",
   "pygments_lexer": "ipython3",
   "version": "3.11.5"
  }
 },
 "nbformat": 4,
 "nbformat_minor": 2
}
